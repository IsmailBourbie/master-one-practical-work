{
 "cells": [
  {
   "cell_type": "markdown",
   "metadata": {},
   "source": [
    "# Principal Component Analysis \n",
    "\n",
    "PCA is a dimensionality reduction technique; it lets you distill multi-dimensional data down to fewer dimensions, selecting new dimensions that preserve variance in the data as best it can.\n",
    "\n",
    "We Will See How To Implement it in this python notebook with the diffrent way: Using Our Pure Code , With Numpy and With Sklearn library But First Let's Take a Look How PCA Work Under the hood."
   ]
  },
  {
   "cell_type": "markdown",
   "metadata": {},
   "source": [
    "## PCA Approach \n",
    "\n",
    "1. Standardize the data.\n",
    "- Obtain the Eigenvectors and Eigenvalues from the covariance matrix or correlation matrix, or perform Singular Vector   Decomposition.\n",
    "- Sort eigenvalues in descending order and choose the $k$ eigenvectors that correspond to the $k$ largest eigenvalues where $k$ is the number of dimensions of the new feature subspace $(k≤d)$.\n",
    "- Construct the projection matrix $W$ from the selected $k$ eigenvectors.\n",
    "- Transform the original dataset $X$ via $W$ to obtain a $k$-dimensional feature subspace $Y$.\n"
   ]
  },
  {
   "cell_type": "markdown",
   "metadata": {},
   "source": [
    "### 1. Standardizing The Data\n",
    "\n",
    "Most of the times, our dataset will contain features highly varying in magnitudes, units and range. But since, most of the machine learning algorithms use Eucledian distance between two data points in their computations, this is a problem.\n",
    "\n",
    "If left alone, these algorithms only take in the magnitude of features neglecting the units. The results would vary greatly between different units, 5kg and 5000gms. The features with high magnitudes will weigh in a lot more in the distance calculations than features with low magnitudes.\n",
    "\n",
    "Whether to standardize the data prior to a PCA on the covariance matrix depends on the measurement scales of the original features. Since PCA yields a feature subspace that maximizes the variance along the axes, it makes sense to standardize the data, especially, if it was measured on different scales.\n",
    "\n",
    "<img src = \"https://cdn-images-1.medium.com/max/1600/1*EyPd0sQxEXtTDSJgu72JNQ.jpeg\" title =\"Tiny Features vs Mega Features\"/>"
   ]
  },
  {
   "cell_type": "markdown",
   "metadata": {},
   "source": [
    "### 2. Computing Eigenvectors and Eigenvalues\n",
    "\n",
    "The eigenvectors and eigenvalues of a covariance (or correlation) matrix represent the \"core\" of a PCA: The eigenvectors (principal components) determine the directions of the new feature space, and the eigenvalues determine their magnitude. In other words, the eigenvalues explain the variance of the data along the new feature axes.\n",
    "\n",
    "#### Covariance Matrix\n",
    "\n",
    "The classic approach to PCA is to perform the eigendecomposition on the covariance matrix $Σ$, which is a $n×n$ matrix where each element represents the covariance between two features. The covariance between two features can be calculated like the following:\n",
    "\n",
    "$\\sigma_{jk}=\\frac{1}{n−1}\\sum_{i = 1}^N = (x_{ij}−\\bar{x_{j}})(x_{ik}−\\bar{x_{k}})$.\n",
    "\n",
    "We can summarize the calculation of the covariance matrix via the following matrix equation:\n",
    "$\\sum_=\\frac{1}{n−1}((X−\\bar{x})^T(X−\\bar{x}))$\n",
    "\n",
    "where $\\bar{x}$ is the mean vector $\\bar{x}=\\sum_{i = 1}^n x_{i}.$\n",
    "\n",
    "The mean vector is a d-dimensional vector where each value in this vector represents the sample mean of a feature column in the dataset.\n",
    "\n",
    "\n",
    "#### EigenValues and EigenVectors\n",
    "\n",
    "In essence, an eigenvector v of a linear transformation T is a non-zero vector that, when T is applied to it, does not change direction. Applying T to the eigenvector only scales the eigenvector by the scalar value λ, called an eigenvalue. This condition can be written as the equation ${\\displaystyle T(\\mathbf {v} )=\\lambda \\mathbf {v} ,} $ then the eigenvalue equation above for a linear transformation can be rewritten as the matrix multiplication ${\\displaystyle Av=\\lambda v} $\n",
    "\n",
    "then v is an eigenvector of the linear transformation A and the scale factor λ is the eigenvalue corresponding to that eigenvector. Equation is the eigenvalue equation for the matrix A. Equation  can be stated equivalently as ${\\displaystyle (A-\\lambda I)v=0}$ where I is the n by n identity matrix.\n",
    "\n",
    "Equation has a non-zero solution $v$ if and only if the determinant of the matrix $(A − λI)$ is zero. Therefore, the eigenvalues of $A$ are values of $λ$ that satisfy the equation ${\\displaystyle |A-\\lambda I|=0}$\n"
   ]
  },
  {
   "cell_type": "markdown",
   "metadata": {},
   "source": [
    "### 3. Sort eigenvalues\n",
    "The typical goal of a PCA is to reduce the dimensionality of the original feature space by projecting it onto a smaller subspace, where the eigenvectors will form the axes.\n",
    "\n",
    "In order to decide which eigenvector(s) can dropped without losing too much information for the construction of lower-dimensional subspace, we need to inspect the corresponding eigenvalues: The eigenvectors with the lowest eigenvalues bear the least information about the distribution of the data; those are the ones can be dropped.\n",
    "In order to do so, the common approach is to rank the eigenvalues from highest to lowest in order choose the top $k$ eigenvectors."
   ]
  },
  {
   "cell_type": "markdown",
   "metadata": {},
   "source": [
    "### 4. Construct the projection matrix\n",
    "\n",
    "It's about time to get to the really interesting part: The construction of the projection matrix that will be used to transform the dataset onto the new feature subspace. Although, the name \"projection matrix\" has a nice ring to it, it is basically just a matrix of our concatenated top $k$ eigenvectors."
   ]
  },
  {
   "cell_type": "markdown",
   "metadata": {},
   "source": [
    "### 5.  Transform the original dataset\n",
    "\n",
    "In this last step we will use the $d*k$-dimensional projection matrix $W$ to transform our samples onto the new subspace via the equation\n",
    "$Y=X×W$, where $Y$ is matrix of our transformed samples."
   ]
  },
  {
   "cell_type": "markdown",
   "metadata": {},
   "source": [
    "# PCA Using Numpy"
   ]
  },
  {
   "cell_type": "code",
   "execution_count": 1,
   "metadata": {},
   "outputs": [],
   "source": [
    "# Importing The Libraries\n",
    "import numpy as np\n",
    "import pandas as pd\n",
    "import matplotlib.pyplot as plt"
   ]
  },
  {
   "cell_type": "code",
   "execution_count": 4,
   "metadata": {},
   "outputs": [
    {
     "data": {
      "text/html": [
       "<div>\n",
       "<style scoped>\n",
       "    .dataframe tbody tr th:only-of-type {\n",
       "        vertical-align: middle;\n",
       "    }\n",
       "\n",
       "    .dataframe tbody tr th {\n",
       "        vertical-align: top;\n",
       "    }\n",
       "\n",
       "    .dataframe thead th {\n",
       "        text-align: right;\n",
       "    }\n",
       "</style>\n",
       "<table border=\"1\" class=\"dataframe\">\n",
       "  <thead>\n",
       "    <tr style=\"text-align: right;\">\n",
       "      <th></th>\n",
       "      <th>Alcohol</th>\n",
       "      <th>Malic_Acid</th>\n",
       "      <th>Ash</th>\n",
       "      <th>Ash_Alcanity</th>\n",
       "      <th>Magnesium</th>\n",
       "      <th>Total_Phenols</th>\n",
       "      <th>Flavanoids</th>\n",
       "      <th>Nonflavanoid_Phenols</th>\n",
       "      <th>Proanthocyanins</th>\n",
       "      <th>Color_Intensity</th>\n",
       "      <th>Hue</th>\n",
       "      <th>OD280</th>\n",
       "      <th>Proline</th>\n",
       "      <th>Customer_Segment</th>\n",
       "    </tr>\n",
       "  </thead>\n",
       "  <tbody>\n",
       "    <tr>\n",
       "      <th>0</th>\n",
       "      <td>14.23</td>\n",
       "      <td>1.71</td>\n",
       "      <td>2.43</td>\n",
       "      <td>15.6</td>\n",
       "      <td>127</td>\n",
       "      <td>2.80</td>\n",
       "      <td>3.06</td>\n",
       "      <td>0.28</td>\n",
       "      <td>2.29</td>\n",
       "      <td>5.64</td>\n",
       "      <td>1.04</td>\n",
       "      <td>3.92</td>\n",
       "      <td>1065</td>\n",
       "      <td>1</td>\n",
       "    </tr>\n",
       "    <tr>\n",
       "      <th>1</th>\n",
       "      <td>13.20</td>\n",
       "      <td>1.78</td>\n",
       "      <td>2.14</td>\n",
       "      <td>11.2</td>\n",
       "      <td>100</td>\n",
       "      <td>2.65</td>\n",
       "      <td>2.76</td>\n",
       "      <td>0.26</td>\n",
       "      <td>1.28</td>\n",
       "      <td>4.38</td>\n",
       "      <td>1.05</td>\n",
       "      <td>3.40</td>\n",
       "      <td>1050</td>\n",
       "      <td>1</td>\n",
       "    </tr>\n",
       "    <tr>\n",
       "      <th>2</th>\n",
       "      <td>13.16</td>\n",
       "      <td>2.36</td>\n",
       "      <td>2.67</td>\n",
       "      <td>18.6</td>\n",
       "      <td>101</td>\n",
       "      <td>2.80</td>\n",
       "      <td>3.24</td>\n",
       "      <td>0.30</td>\n",
       "      <td>2.81</td>\n",
       "      <td>5.68</td>\n",
       "      <td>1.03</td>\n",
       "      <td>3.17</td>\n",
       "      <td>1185</td>\n",
       "      <td>1</td>\n",
       "    </tr>\n",
       "    <tr>\n",
       "      <th>3</th>\n",
       "      <td>14.37</td>\n",
       "      <td>1.95</td>\n",
       "      <td>2.50</td>\n",
       "      <td>16.8</td>\n",
       "      <td>113</td>\n",
       "      <td>3.85</td>\n",
       "      <td>3.49</td>\n",
       "      <td>0.24</td>\n",
       "      <td>2.18</td>\n",
       "      <td>7.80</td>\n",
       "      <td>0.86</td>\n",
       "      <td>3.45</td>\n",
       "      <td>1480</td>\n",
       "      <td>1</td>\n",
       "    </tr>\n",
       "    <tr>\n",
       "      <th>4</th>\n",
       "      <td>13.24</td>\n",
       "      <td>2.59</td>\n",
       "      <td>2.87</td>\n",
       "      <td>21.0</td>\n",
       "      <td>118</td>\n",
       "      <td>2.80</td>\n",
       "      <td>2.69</td>\n",
       "      <td>0.39</td>\n",
       "      <td>1.82</td>\n",
       "      <td>4.32</td>\n",
       "      <td>1.04</td>\n",
       "      <td>2.93</td>\n",
       "      <td>735</td>\n",
       "      <td>1</td>\n",
       "    </tr>\n",
       "  </tbody>\n",
       "</table>\n",
       "</div>"
      ],
      "text/plain": [
       "   Alcohol  Malic_Acid   Ash  Ash_Alcanity  Magnesium  Total_Phenols  \\\n",
       "0    14.23        1.71  2.43          15.6        127           2.80   \n",
       "1    13.20        1.78  2.14          11.2        100           2.65   \n",
       "2    13.16        2.36  2.67          18.6        101           2.80   \n",
       "3    14.37        1.95  2.50          16.8        113           3.85   \n",
       "4    13.24        2.59  2.87          21.0        118           2.80   \n",
       "\n",
       "   Flavanoids  Nonflavanoid_Phenols  Proanthocyanins  Color_Intensity   Hue  \\\n",
       "0        3.06                  0.28             2.29             5.64  1.04   \n",
       "1        2.76                  0.26             1.28             4.38  1.05   \n",
       "2        3.24                  0.30             2.81             5.68  1.03   \n",
       "3        3.49                  0.24             2.18             7.80  0.86   \n",
       "4        2.69                  0.39             1.82             4.32  1.04   \n",
       "\n",
       "   OD280  Proline  Customer_Segment  \n",
       "0   3.92     1065                 1  \n",
       "1   3.40     1050                 1  \n",
       "2   3.17     1185                 1  \n",
       "3   3.45     1480                 1  \n",
       "4   2.93      735                 1  "
      ]
     },
     "execution_count": 4,
     "metadata": {},
     "output_type": "execute_result"
    }
   ],
   "source": [
    "# getting the data from csv file\n",
    "data = pd.read_csv('Wine.csv')\n",
    "data.head()"
   ]
  },
  {
   "cell_type": "code",
   "execution_count": 5,
   "metadata": {},
   "outputs": [],
   "source": [
    "# Spliting Them to Features and targets\n",
    "X = data.iloc[:, 0:13].values\n",
    "y = data.iloc[:, 13].values"
   ]
  },
  {
   "cell_type": "code",
   "execution_count": 6,
   "metadata": {},
   "outputs": [],
   "source": [
    "# Feature Scaling\n",
    "from sklearn.preprocessing import StandardScaler\n",
    "sc = StandardScaler()\n",
    "X = sc.fit_transform(X)"
   ]
  },
  {
   "cell_type": "code",
   "execution_count": 7,
   "metadata": {},
   "outputs": [],
   "source": [
    "# Calculating Covariance Matrix\n",
    "cov_matrix = np.cov(X.T)"
   ]
  },
  {
   "cell_type": "code",
   "execution_count": 8,
   "metadata": {
    "scrolled": true
   },
   "outputs": [],
   "source": [
    "# Getting the Eign Values And EigenVecorts\n",
    "# Since We Know That The Matrix is Symetric we can use eigh instead of eig for better performance\n",
    "eig_vals, eig_vecs = np.linalg.eigh(cov_matrix)"
   ]
  },
  {
   "cell_type": "code",
   "execution_count": 9,
   "metadata": {},
   "outputs": [],
   "source": [
    "# Forming a pair of Eign Values / Pairs\n",
    "#eig_pairs = [(np.abs(eig_vals[i]) , eig_vecs[:,i]) for i in range(len(eig_vals))]\n",
    "\n",
    "# Sorting All of Them\n",
    "# eig_pairs.sort(key = lambda x : x[0] , reverse= True)\n",
    "# another way to do that is like followinf\n",
    "indexes = np.argsort(-eig_vals)\n",
    "eig_vals = eig_vals[indexes] # sort in proper order\n",
    "eig_vals = np.maximum(eig_vals, 0) # get rid of negatives\n",
    "eig_vecs = eig_vecs[:,indexes]"
   ]
  },
  {
   "cell_type": "code",
<<<<<<< HEAD
   "execution_count": 25,
=======
   "execution_count": 10,
>>>>>>> 8447fbbaddb977366686cbac238030c195828031
   "metadata": {},
   "outputs": [
    {
     "data": {
      "text/plain": [
       "'final = []\\nfor i in range(2):\\n    final.append(eig_pairs[i][1].reshape(13,1))\\ns = []\\ns.append(eig_pairs[0][1].reshape(13,1))\\ns.append(eig_pairs[1][1].reshape(13,1))\\n# Creating the Projection Matrix\\nmatrix_w = np.hstack((s))'"
      ]
     },
     "execution_count": 10,
     "metadata": {},
     "output_type": "execute_result"
    }
   ],
   "source": [
    "# we do not need this one at all\n",
    "\"\"\"final = []\n",
    "for i in range(2):\n",
    "    final.append(eig_pairs[i][1].reshape(13,1))\n",
    "s = []\n",
    "s.append(eig_pairs[0][1].reshape(13,1))\n",
    "s.append(eig_pairs[1][1].reshape(13,1))\n",
    "# Creating the Projection Matrix\n",
<<<<<<< HEAD
    "\n",
    "matrix_w = np.hstack((s)).dot(-np.identity(2))\n"
=======
    "matrix_w = np.hstack((s))\"\"\""
>>>>>>> 8447fbbaddb977366686cbac238030c195828031
   ]
  },
  {
   "cell_type": "code",
<<<<<<< HEAD
   "execution_count": 39,
=======
   "execution_count": 11,
>>>>>>> 8447fbbaddb977366686cbac238030c195828031
   "metadata": {},
   "outputs": [
    {
     "data": {
      "text/plain": [
       "array([[ 3.31675081, -1.44346263],\n",
       "       [ 2.20946492,  0.33339289],\n",
       "       [ 2.51674015, -1.0311513 ],\n",
       "       [ 3.75706561, -2.75637191],\n",
       "       [ 1.00890849, -0.86983082],\n",
       "       [ 3.05025392, -2.12240111],\n",
       "       [ 2.44908967, -1.17485013],\n",
       "       [ 2.05943687, -1.60896307],\n",
       "       [ 2.5108743 , -0.91807096],\n",
       "       [ 2.75362819, -0.78943767],\n",
       "       [ 3.47973668, -1.30233324],\n",
       "       [ 1.7547529 , -0.61197723],\n",
       "       [ 2.11346234, -0.67570634],\n",
       "       [ 3.45815682, -1.13062988],\n",
       "       [ 4.31278391, -2.09597558],\n",
       "       [ 2.3051882 , -1.66255173],\n",
       "       [ 2.17195527, -2.32730534],\n",
       "       [ 1.89897118, -1.63136888],\n",
       "       [ 3.54198508, -2.51834367],\n",
       "       [ 2.0845222 , -1.06113799],\n",
       "       [ 3.12440254, -0.78689711],\n",
       "       [ 1.08657007, -0.24174355],\n",
       "       [ 2.53522408,  0.09184062],\n",
       "       [ 1.64498834,  0.51627893],\n",
       "       [ 1.76157587,  0.31714893],\n",
       "       [ 0.9900791 , -0.94066734],\n",
       "       [ 1.77527763, -0.68617513],\n",
       "       [ 1.23542396,  0.08980704],\n",
       "       [ 2.18840633, -0.68956962],\n",
       "       [ 2.25610898, -0.19146194],\n",
       "       [ 2.50022003, -1.24083383],\n",
       "       [ 2.67741105, -1.47187365],\n",
       "       [ 1.62857912, -0.05270445],\n",
       "       [ 1.90269086, -1.63306043],\n",
       "       [ 1.41038853, -0.69793432],\n",
       "       [ 1.90382623, -0.17671095],\n",
       "       [ 1.38486223, -0.65863985],\n",
       "       [ 1.12220741, -0.11410976],\n",
       "       [ 1.5021945 ,  0.76943201],\n",
       "       [ 2.52980109, -1.80300198],\n",
       "       [ 2.58809543, -0.7796163 ],\n",
       "       [ 0.66848199, -0.16996094],\n",
       "       [ 3.07080699, -1.15591896],\n",
       "       [ 0.46220914, -0.33074213],\n",
       "       [ 2.10135193,  0.07100892],\n",
       "       [ 1.13616618, -1.77710739],\n",
       "       [ 2.72660096, -1.19133469],\n",
       "       [ 2.82133927, -0.6462586 ],\n",
       "       [ 2.00985085, -1.24702946],\n",
       "       [ 2.7074913 , -1.75196741],\n",
       "       [ 3.21491747, -0.16699199],\n",
       "       [ 2.85895983, -0.7452788 ],\n",
       "       [ 3.50560436, -1.61273386],\n",
       "       [ 2.22479138, -1.875168  ],\n",
       "       [ 2.14698782, -1.01675154],\n",
       "       [ 2.46932948, -1.32900831],\n",
       "       [ 2.74151791, -1.43654878],\n",
       "       [ 2.17374092, -1.21219984],\n",
       "       [ 3.13938015, -1.73157912],\n",
       "       [-0.92858197,  3.07348616],\n",
       "       [-1.54248014,  1.38144351],\n",
       "       [-1.83624976,  0.82998412],\n",
       "       [ 0.03060683,  1.26278614],\n",
       "       [ 2.05026161,  1.9250326 ],\n",
       "       [-0.60968083,  1.90805881],\n",
       "       [ 0.90022784,  0.76391147],\n",
       "       [ 2.24850719,  1.88459248],\n",
       "       [ 0.18338403,  2.42714611],\n",
       "       [-0.81280503,  0.22051399],\n",
       "       [ 1.9756205 ,  1.40328323],\n",
       "       [-1.57221622,  0.88498314],\n",
       "       [ 1.65768181,  0.9567122 ],\n",
       "       [-0.72537239,  1.0636454 ],\n",
       "       [ 2.56222717, -0.26019855],\n",
       "       [ 1.83256757,  1.2878782 ],\n",
       "       [-0.8679929 ,  2.44410119],\n",
       "       [ 0.3700144 ,  2.15390698],\n",
       "       [-1.45737704,  1.38335177],\n",
       "       [ 1.26293085,  0.77084953],\n",
       "       [ 0.37615037,  1.0270434 ],\n",
       "       [ 0.7620639 ,  3.37505381],\n",
       "       [ 1.03457797,  1.45070974],\n",
       "       [-0.49487676,  2.38124353],\n",
       "       [-2.53897708,  0.08744336],\n",
       "       [ 0.83532015,  1.47367055],\n",
       "       [ 0.78790461,  2.02662652],\n",
       "       [-0.80683216,  2.23383039],\n",
       "       [-0.55804262,  2.37298543],\n",
       "       [-1.11511104,  1.80224719],\n",
       "       [-0.55572283,  2.65754004],\n",
       "       [-1.34928528,  2.11800147],\n",
       "       [-1.56448261,  1.85221452],\n",
       "       [-1.93255561,  1.55949546],\n",
       "       [ 0.74666594,  2.31293171],\n",
       "       [ 0.95745536,  2.22352843],\n",
       "       [ 2.54386518, -0.16927402],\n",
       "       [-0.54395259,  0.36892655],\n",
       "       [ 1.03104975,  2.56556935],\n",
       "       [ 2.25190942,  1.43274138],\n",
       "       [ 1.41021602,  2.16619177],\n",
       "       [ 0.79771979,  2.3769488 ],\n",
       "       [-0.54953173,  2.29312864],\n",
       "       [-0.16117374,  1.16448332],\n",
       "       [-0.65979494,  2.67996119],\n",
       "       [ 0.39235441,  2.09873171],\n",
       "       [-1.77249908,  1.71728847],\n",
       "       [-0.36626736,  2.1693533 ],\n",
       "       [-1.62067257,  1.35558339],\n",
       "       [ 0.08253578,  2.30623459],\n",
       "       [ 1.57827507,  1.46203429],\n",
       "       [ 1.42056925,  1.41820664],\n",
       "       [-0.27870275,  1.93056809],\n",
       "       [-1.30314497,  0.76317231],\n",
       "       [-0.45707187,  2.26941561],\n",
       "       [-0.49418585,  1.93904505],\n",
       "       [ 0.48207441,  3.87178385],\n",
       "       [-0.25288888,  2.82149237],\n",
       "       [-0.10722764,  1.92892204],\n",
       "       [-2.4330126 ,  1.25714104],\n",
       "       [-0.55108954,  2.22216155],\n",
       "       [ 0.73962193,  1.40895667],\n",
       "       [ 1.33632173, -0.25333693],\n",
       "       [-1.177087  ,  0.66396684],\n",
       "       [-0.46233501,  0.61828818],\n",
       "       [ 0.97847408,  1.4455705 ],\n",
       "       [-0.09680973,  2.10999799],\n",
       "       [ 0.03848715,  1.26676211],\n",
       "       [-1.5971585 ,  1.20814357],\n",
       "       [-0.47956492,  1.93884066],\n",
       "       [-1.79283347,  1.1502881 ],\n",
       "       [-1.32710166, -0.17038923],\n",
       "       [-2.38450083, -0.37458261],\n",
       "       [-2.9369401 , -0.26386183],\n",
       "       [-2.14681113, -0.36825495],\n",
       "       [-2.36986949,  0.45963481],\n",
       "       [-3.06384157, -0.35341284],\n",
       "       [-3.91575378, -0.15458252],\n",
       "       [-3.93646339, -0.65968723],\n",
       "       [-3.09427612, -0.34884276],\n",
       "       [-2.37447163, -0.29198035],\n",
       "       [-2.77881295, -0.28680487],\n",
       "       [-2.28656128, -0.37250784],\n",
       "       [-2.98563349, -0.48921791],\n",
       "       [-2.3751947 , -0.48233372],\n",
       "       [-2.20986553, -1.1600525 ],\n",
       "       [-2.625621  , -0.56316076],\n",
       "       [-4.28063878, -0.64967096],\n",
       "       [-3.58264137, -1.27270275],\n",
       "       [-2.80706372, -1.57053379],\n",
       "       [-2.89965933, -2.04105701],\n",
       "       [-2.32073698, -2.35636608],\n",
       "       [-2.54983095, -2.04528309],\n",
       "       [-1.81254128, -1.52764595],\n",
       "       [-2.76014464, -2.13893235],\n",
       "       [-2.7371505 , -0.40988627],\n",
       "       [-3.60486887, -1.80238422],\n",
       "       [-2.889826  , -1.92521861],\n",
       "       [-3.39215608, -1.31187639],\n",
       "       [-1.0481819 , -3.51508969],\n",
       "       [-1.60991228, -2.40663816],\n",
       "       [-3.14313097, -0.73816104],\n",
       "       [-2.2401569 , -1.17546529],\n",
       "       [-2.84767378, -0.55604397],\n",
       "       [-2.59749706, -0.69796554],\n",
       "       [-2.94929937, -1.55530896],\n",
       "       [-3.53003227, -0.8825268 ],\n",
       "       [-2.40611054, -2.59235618],\n",
       "       [-2.92908473, -1.27444695],\n",
       "       [-2.18141278, -2.07753731],\n",
       "       [-2.38092779, -2.58866743],\n",
       "       [-3.21161722,  0.2512491 ],\n",
       "       [-3.67791872, -0.84774784],\n",
       "       [-2.4655558 , -2.1937983 ],\n",
       "       [-3.37052415, -2.21628914],\n",
       "       [-2.60195585, -1.75722935],\n",
       "       [-2.67783946, -2.76089913],\n",
       "       [-2.38701709, -2.29734668],\n",
       "       [-3.20875816, -2.76891957]])"
      ]
     },
     "execution_count": 39,
     "metadata": {},
     "output_type": "execute_result"
    }
   ],
   "source": [
    "# Transforming The Data\n",
<<<<<<< HEAD
    "Y = X.dot(matrix_w)\n",
    "Y"
=======
    "Y = X.dot(eig_vecs)\n",
    "#n =-1 * np.identity(2)\n",
    "#Y = Y.dot(n)"
>>>>>>> 8447fbbaddb977366686cbac238030c195828031
   ]
  },
  {
   "cell_type": "code",
<<<<<<< HEAD
   "execution_count": 27,
=======
   "execution_count": 22,
>>>>>>> 8447fbbaddb977366686cbac238030c195828031
   "metadata": {},
   "outputs": [
    {
     "data": {
      "image/png": "iVBORw0KGgoAAAANSUhEUgAAAXYAAAEICAYAAABLdt/UAAAABHNCSVQICAgIfAhkiAAAAAlwSFlzAAALEgAACxIB0t1+/AAAADl0RVh0U29mdHdhcmUAbWF0cGxvdGxpYiB2ZXJzaW9uIDIuMi4yLCBodHRwOi8vbWF0cGxvdGxpYi5vcmcvhp/UCwAAIABJREFUeJzsvXecHXd19//+zty5fXvVSlp1ySqWm2y5V7DBGNsYMJ1AEvxAEvgR8iQ84ReelCchBEJJ8pCAgcRAErDBNu4Gg6vkKsnqktXLStv7rXNn5jx/fGdXd7VNZaVdSfN+vfal3Tsz3/nO1b1nzpzvOZ+jRISAgICAgLMHY7InEBAQEBAwsQSGPSAgIOAsIzDsAQEBAWcZgWEPCAgIOMsIDHtAQEDAWUZg2AMCAgLOMgLDHhBwjqKU+q5S6suTPY+AiScw7OcISqkPK6XWKKVSSqlmpdRTSqmrT3LMv1JK/edEzfFUoZQKK6W+oZRq8q9/r1LqW5M9r+NBKTVbKSVKqdAo26f52+uKXvv/R3ntaQAR+bSI/J9TP/uA001g2M8BlFJfAL4NfAWoAxqBfwXumMx5TSSjGTyfPwdWAJcBJcANwJunY16nCxFpBnYB1xa9fC2wfYTXXjyNUwuYDEQk+DmLf4AyIAW8f4x97gP+tujv64Gmor+/CBwC+oG3gJuAdwA2UPDH3+Dv2wA8CnShDc2nisb5K+DnwH/6Y20CFqINbxtwELj5qLn/EGj2z/+3gOlv+wSwGviWf66/HeP6Hgc+P8b2BuBBoB3YC3yuaFsM+BHQDWwD/uyo92Yf8KfARiDtz7cOeMq/xt8AFUX7Xw68DPQAG4Dri7Y9D/wf/7r6gV8D1f62A4D473UKuGKE6/gh8C/+76b/nn76qNf6gKuP/n8f+D8H/sQ/rhn4ZNHYEeAf/Xm0At8FYpP9+Q5+Rv4JPPaznyuAKPDwiRyslFoE/BFwqYiUALcA+0TkafQTwP0ikhSRC/xDfoo2EA3A+4CvKKVuKhry3cBPgAq01/wr9JPjdOBvgO8V7fsjwAHmAxcBNwO/X7R9JbAHqAX+bozLeBX4glLqD5RS5yulVNH1GcBjaCM7HX3T+rxS6hZ/l78EZgNzgbcDHx1h/Pf62xb61/cU8CWg2r+2z/nnmg48gb5BVQL/E3hQKVVTNNaHgU/61xT294EjXne5/36/MsI8Xiza7yK0t/7bo16zgNdHepOAevTNdDrwe8B3lFIV/rZ/8K/vQvT/x3Tgf48yTsAkExj2s58qoENEnBM83kV7a0uUUpaI7BOR3SPtqJSaCVwNfFFEciKyHvgB8LGi3V4SkV/58/k5UAN8VUQKwM+A2Uqpcj8u/E60p50WkTa0d/7BorEOi8i/iIgjItkxruHv0YbpI8Aa4JBS6nf8bZcCNSLyNyJii8ge4PtF57kb+IqIdItIE/DPI4z/LyLSKiKHgJeA10TkTRHJo2+oF/n7fRR4UkSeFBFPRJ7x53Nr0Vj/ISI7/Ot5AG1Ij5UXgGW+Mb4G/V7vBKqLXntVROxRji8AfyMiBRF5Ev1ksMi/EX4K+GMR6RKRfvRN/YOjjBMwyYwVlww4O+hEf7FDJ2LcRWSXUurz6DDKUqXUr4AviMjhEXZvAAa++APsR8e3B2gt+j2Lvum4RX8DJP2xLKC5yME20OGaAYp/H+saXOA7aA80Bvwu8O9KqdeBWUCDUqqn6BATbaAHrmm8cx59TUf/nfR/nwW8Xyn17qLtFvBc0d8tRb9nio4dFxHZp5RqQt9cr+XI088rRa+NFV/vPOozMnD+GiAOrC1+2EG/TwFTkMBjP/t5BcgBd46xTxr9xR2gvnijiPy3iFyNNkyC9n7xfy/mMFCplCopeq0RHR8/Xg4CeXSMudz/KRWRpcVTO95BRSQrIt9Bx8yX+OfZW3SOchEpEZEBL7oZmFE0xMwTuJYBDgI/OepcCRH56rFM/RjP8RLagF+BjuUXv3Y1J7Zw2oG+QS0tmneZiBzzTSfg9BIY9rMcEelFx0K/o5S6UykVV0pZSql3KqW+5u+2HrhVKVWplKoHPj9wvFJqkVLqRqVUBH2DyKLDM6A909l+nBoROYg2Jn+vlIoqpZajY7X/dQLzbkYvHn5DKVWqlDKUUvOUUtcd71hKqc8rpa5XSsWUUiE/DFOCjvG/DvQppb7obzeVUsuUUpf6hz8A/LlSqsKPkf/R8Z6/iP8E3q2UusU/T9Sf14xxj9QLux461j8WLwIfR4ep+vzXVvmvlaFv9MeFiHjo8NS3lFK1oNcLitYhAqYYgWE/BxCRbwJfAP4CbSAOog3UL/1dfoJePNyHNqb3Fx0eAb6K9tpa0It6X/K3/dz/t1Mptc7//UPoxcbD6PjyX/qx5BPh4+gFxK1oD/sXwLQTGCcLfAM9/w7gD4H3isgeP0zzbnQse6+//QdoIwh6QbfJ3/Ybfw75E7kY/8Z3B/r9G/h/+FOO4XsoIhn0AvFqpVSPUuryUXZ9Af1/tKrotfXo7J61/jgnwhfRWU6vKqX60O/FohMcK+AUo0SCRhsBAceKUuozwAdF5LifHAICTheBxx4QMAZ+RedVfihoETrP+4RSRwMCTheBYQ84K/B1T1Ij/Hz3JIcOo7NL+oFngUfQVbsBAVOWIBQTEBAQcJYReOwBAQEBZxmTUqBUXV0ts2fPnoxTBwQEBJyxrF27tkNEasbbb1IM++zZs1mzZs1knDogICDgjEUptf9Y9gtCMQEBAQFnGYFhDwgICDjLCAx7QEBAwFlGoO4YEDBFEckh9lbwmgATFZoDoQUoZU321AKmOIFhDwiYYogIYq+B3KMgNlrZVxD7RVBJiH8YFZo32dMMmMIEoZiAgCmG2Osg+wCoUjCng1kLZh0Y00FMJPUDxDmm5IiAc5TAsAcETCFEbO2pGzWgIsN3MJKgYkj2MYKq8YDRCAx7QMBUwnkLJAcqOvo+qgzcg+C1jL5PwDlNYNgDAqYQ4rYy7tdSKUCB13U6phRwBhIY9oCAKUWIY+uC5xv3gIARCAx7QMAUQoVmjb+TuKAEzGPpqBdwLhIY9oCAqYQ5S2fBeN2j7yPtYF2AMkpP37wCzigCwx4QMIVQykDFPwS44LaDeEc2igteMxgVqOhtkzbHgKlPUKAUEDDFUOY0SP4hknsaCtuOLJYCWJegoregjJJJnWPA1CYw7AEBUxBl1qESv4N4XUeyX4x6lJGc3IkFnBEEhj0gYAqjjEowKid7GgFnGEGMPSAgIOAsIzDsAQEBAWcZgWEPCAgIOMs4acOulIoqpV5XSm1QSm1RSv31REwsICAgIODEmIjF0zxwo4iklO4AsEop9ZSIvDoBYwcEBAQEHCcnbdhFa4em/D8tBroCBAQEBARMChMSY1dKmUqp9UAb8IyIvDYR4wYEBAQEHD8TkscuIi5woVKqHHhYKbVMRDYX76OUuge4B6CxsXEiTntSpHvTNO1swbEdkuVxZixswAyZkz2tgIBzDnE7EGcHSBpUKco6D2WUHf84XgopbILCZsABcwYqvEIXdqlzSwlzQguURKRHKfU88A5g81Hb7gXuBVixYsWkhWpymTzP/XQVW15+C/GOTCNeGuO6u69k6ZWLzrkPQUDAZCBeBsk+BIVNaMkEA3CRnEKsy1Gxdx1z427P3gzZn4E4oBJ6LLcJya+C8GUQuwOlzp16zJO+UqVUDVDwjXoMeBvwDyc9s1OAnbP5xTceo3lPK9UzqjDNI5GoXCbPE997hmwqx6W3XDiJswwIOPsRsZHMfeAcBGMaqKKosLhgv4xIGuIfQqmxI8bi7IHMT3SFrhEr2lKiRdTsVxFloWK3n5JrmYpMRIx9GvCcUmoj8AY6xv74BIw74ax/bjOHdjVTN6tmiFEHiMYjVM+o4oUHXqa3o2+SZhgQcG4g9kZw9oFRP9SoAyhTN+4ubAB3z9jjiCDZp7WXrmLDd1AGGA2QfxkZSwr5LOOkDbuIbBSRi0RkuYgsE5G/mYiJTTSu4/LG0+uprCsfdR8rrB9gtrz81umaVkDAWY3nuXhuGpH8YPNtEQH7eVDlvnLlCCgFKorkXxnnBB3g7dd9YEdD6bUzsTeewBWcmZwzQadUT5psKkdJxdjqeInSOPu2HOTK2y89TTMLCDi7EHERewNkHgBnI1BAVClYFyCx90BogdaaNxrGHkiVgrt/nJP1AeboN4jBscLgtR/PZZzRnDOGfcBbOFZc1yWXyqEMg1gyGiyoBgQcAyI2kv53yD7mt/Ar1R6z5MFerTNWou851tEYP6hgwbF8t8UFFT3G8575nDOGPVmeIBKPYOdswtHwqPv1dvYTTUT47p/8iExfFoWiYlo5K2+9mMUrFwQpkQEBYyDZJyD3NBACsyjsqWIgUe1h55/Q/VqlV4djRh2sB6xLxj6hOc0fOw8qMsaOLspafDyXckZzzoiAhawQK26+gK6WnlH3yaZy7Nmwj0M7mwmHLeoaa6iZWYWdsXn8e7/m0X/9FU7BOY2zDgg4cxCvD/LPgeeCGiHkqZR+3esDyWrDXtz6b8hgLkgBFb5szHMqZUHkWvDaRvfcvS7dR9acc5xXdOZyzhh2gAtvXEb1jEo6mjrxvKEfgnzOZv1zm6ioK6Nx8QwicX33V0qRKIszbU4dO9bu5tXH107G1AMCJgQRG/G6Ea//uMOT4+Ls1EbUMAY7+Q3DX8jEy4E5D7xDIPZRk8yCdxiibwNz+rinVZGrwVoOXhN46aJxCrpHrAqh4h8dN23ybOKcCcUAxBJRPvBnd/LrHz3PrnV78UQwUAiC67iUVJWw+IqFIx6rlKK6oZI1v1rPZe+8aMxwTkDAVEO8LiS/GuzXAUd7t2YDErkeZZ0/IWtI4qV9T3sMwz6AEojeBG4T5F/0jbv4YfUkxN6LCq88pnkpFYL4hxB7IeSf18ZclL6JhK9CRa5GGWOEfM5CzinDDjrr5T2fvZXutl6a3jpMIV8gWZGg83AXqx56HWOMu7oVsSjkHQ7vbmX20pmncdYnhud5eK6HGTKDxd9zGHEPI6l7gTyoalD+gqPXC5kfI+FrIHb7yX9GVALwQLrA7QaUn1+ePOKpD2KgjFKUdRMSuQac/f784mA2HneVqFIhVGQlEr5Ux+bFA6MENWbc/ezlnDPsA1TUllFReyT39aX97ce0MKqUwrGnbpxdRDi0s5m1v9nIjjW7ERFKKpJc+o4LWXrlImLJEYo4As5aRApI+j7A0BWeAyilc7+lBOyXEHMmKnLxSZ0HZ4uOdXtpf0FT0LqA7WDUglmqPXo8CM3TxUmAUmGwFpzEVRZflgEq6BF7zhr2oymtKsFx3HH3E4RYydRMmxIRXn18LS/+4lUisTA106swTINcOs+zP13Numc2cvef3UF5zfELLAWcoTg7wOvRWSgjoQxQFWA/h4QvOmGvXbKPa82X0Hk6pVHSgMeggre3F6RKZ66YdRC9NXiKPIWcO6sJ4zD/wtkYhsIdw7hn+rOUVpUwbW7daZzZsbN7/T5eeOBlamdWUVlfjuHLJkQTEepn1ZBN5Xnon57Edce/gQWcHYi9YeRS+2JUUhfveJ0ndg6vC+xXtQyAOc8/XwEYeLL1zYx0gKQgdjdGeOkJnetEEfG06FhRBezZTGDYfRJlCVbccgFtBzrwvOEpWAXboaetj2veezmGMfXeNhHh5UffoKSyZNSQUkVdGR1NnRzcfvg0zy5g8sgy7oO5GlBWLJzQGXSpvqG9f++g9sqNefpJwFdsBEvH20PzwX4dzzs94UyRLF5+FdL/VaT/b5De/42kvoNnb0SrjZ+dBKGYIq6563LyGZsNz2/BCoeIl8VBoL87hYjw9o9fy+KVExMLnGh6O/po3d9B7cyqMfcLR8NsfeWtM2LxN2ACMGqAPcAY4TfxAG/k3PNjwWv3F2RdcA9qA26YQAIkp7dLwU8/bAX3EPT/HZK8B2VOGzac9qgdIHRS4Rrx+pH0D8Bt9pUfG/xF425/0XgFxN6PGrawe+YTGPYizJDJzb9zPRdcv5QNz2/h0M5mDNNgyZUXs+zqxUMWW8dDRGje08qB7U3Y2QIVdWXMv2jOKVu8tLO2Xg8b54tgRUKk+7KnZA4BUw9lXazTHEVG11PxusBaijJKTvAkcX9RtF//a/iGUnLgHkZruUTQWTIlgAPOXiT1b5D8A5SpF1HFPaRFvwrr/HFKkPDVqPAlxz03EUEy9+vwUvH6wuCicSnYaxGjDhW94cSuewpzRhh2p+Cwb/NB1v1mI13N3YRjYZZcuYglVyyktPIEP4yjoJSifnYt9Z+oPeExult7eOzffk3LvjYMw8AwDVzHwQiZXHXHpVx268UTHs6JJqP6wywypnG3swVKq07QMws48zCng7UUClu0x3r0Z0MyQAEVOX7jJiLaA1chbUCNiuKN4LahjXrIfyowtBgXA7otCsn+EpX8NF7+Ncg+pD1/VaNvDpKD3NOIvQoSvz94AzgmvBZdMDWa0JhSOlMn/wISuUpn5pxFTHnDnu5N8+C3n6BlbxvxkhjRRJRC3mHVQ6/x8iNvcPsf3ML8C6dOqXBfVz8//fuHcWyHulk1Q4ysU3B4/v5XcAouV79n5YSet7SyhMbzptN2oIOy6tIR9xERCnaBpVeeN6HnDpi6KKUgfjeS/hk42xiMdeOC9GtPOvEJVGiUrJlREPcQknnEV19UulLU2QXkwIuAcgBHjy8ABTD8MKGXAdJACrxNePk3IPugNrTFBlZFwWwAtw3p/0ck9kGUWQXmrPGbbxS2+975GE+wKqKfVtyDOv3yLGLqrQIW4bouD//LU7Qf7KR+di2lVSWEoxaxZJTamdUkyxI8/M9P0rKvbbKnOsjrT75Jpi9LeW3ZMM85ZIWom1XNK4+tOSXNPK64/VIy/Vns3MiLYJ2HupixqIGGeVMzqyfg1KBUFJX4OCr5GQifD0YCzGqI3Ykq+TMMa9FxjSfOAR1G8dq0R2w2QPhKLeglBW3sPT/cJy6Q8+P3ISjs1wVMXhe4O6HwFvR9FR3jP8prlgIUtoKzCez1kLoXSX0P6f+aboU35iQzIMcYOz9a0uAsYEob9qYdzRze1UrNjJEXBKOJCFbY4vWn3jzNMxuZXCbPxhe3UjmtYtR9BjJWTkUzj8bzpvOue95OT3svbQc7yGdtCrZDX1eKlr1t1DRWcccfvmNKZvUEnFqUMlCh2RjxD2CUfA4j+WmMyBUo4/jCciIekvkpENULkgPOi4pDZCVY54Mq+Aumjt/BqE4/Jbgt2pNX1Vr50SjR40gnFHbpVMhBHB1rdw8DCTDKAFvfREQg8yO8/JrRJ2qUcyTdcqw3RvwnmLOLKR2K2fTiViKxsZvZlteUsmPNbrKp7KRXVfZ3pfBcj5A1tqcQT8Zo3tN6Suaw7KrzaJhXx6aXtrHt1Z3kM3kqGyp4+8evY+7yRqzwsTUHDggYEXePr5Y4gjiXimgxLlULhdWA0sYfdCaMUjoFciAWL6INq8T0DaDwFoR9mV7noFaBNEr9jBob6NX/GgmQEOQeQqzzRrw5KWsJMqgJP8r30Uvr+YxWvHUGMxHNrGcCPwbq0aVm94rIP53suAA97X2EY2MvagwU4eTS+Uk37MeamSUig/M+FVTUlXP1XSu57v1XnrJzBJybiHOQcR/0Q/Ugl2lPnAJga4/eqNGLo4Nkdfm/6gOJgHTrilUV9WP3lvbyJYPOhQ9D/iUw63U+vHhIYQMqctWwKSijAgmvBPsVXTg1bNG4oOcXOztVHyfCY3eAPxGRdUqpEmCtUuoZEdl6sgPHkjG6W3rH3EdEEE+wIpPviZbXlhGNR8hnbSJj3JCyqRxzlzdO+Pk7Dnex/tnNbF61DTtXIFEW55KbL2DZVeeRLD/7HjcDJoNR9NOPxghB9EOQe1Z7+GSPGHURIAcosBaDu8/XU1e+ERct6ysD3/0wYPs3hqg29l6PbrHn7IQRDDuAit2GkNPxecJ+6EeO6MBHb0dZF5z4WzGFmYhm1s0iss7/vR/YBowvonwMLLtqEbl0bsx9+rtSzFjUMCUMV8gKseIdF9LV0j1q2XI+kydkmSxcMf+4xnYdVy+M5kdeGN322g7u+/LP2PD8FkqrSqibVUM4GualX7zKfV/+GW0Hzp1+jwGnDl1QNI5xFwHlaTng5D1+DnsWvH79Q0rHta0VWqLXbNTHiHPkeBlQh7TQ2TVhLVWgDH2M5PUNgdHlAZSyULEPoJKf1jeQgVZ74StRJX+MEb12SIKDiI1IFhmt+ccZxITG2JVSs4GLgNdG2HYPcA9AY+OxeatzL5hFSWWSvs5+SquG56s7BZd0X4Z33fO2k5j1xHLxTeezZ/0+Du1qpqqhkpCl32IRId2bIdWd5o4/egexxLEJiXW39bL+uU1seG4LTsEFERZcPJdLbrmQGQt01V7r/nYe/94zlNeUDXlSiMTC1M2qob8rxc+/+Ri/95WPEI1PjoypiNC6v53ejn5M06B+Tu2UuBkHHCeh+X5BUnZ0DRrp1t2KjDqUUkjys9D/bd9j9rsoqeSR8IhRCqFlUHjdFw8r+Auvfq9UZWklyOJwioqB26pz3sdAKQNCc1ChkVOiRTxwtiP5F8DZ568DlCKRa1DWJSgjftxv0VRgwgy7UioJPAh8XkSG5fKJyL3AvQArVqw4JhUeK2zx3j++jfu/9ktaD7RTUVtOOGrheR697X3kszbX330ls5dNfFjjRDEtkxs/cg2vPbmOHWv3oPwrFRGqZ1Ry66feNmI5v1Nw2LflINte3UE+Y1NRV0ZVQyXP/Ww1nutRXluGFQ7heR77thxk+xu7efvHruXity1n3TMbCVmhUcM/JZVJWve3s3Ptbs6/ZsmpvPwR2b+tiWf/6yU6DnWhlP8krmDJ5Qu5/oNXkSg9M7885yJKhZHYXZD5ic5LP9q4e72Ag4q9e9AbVqG5SGimNtZGqQ6DSCcUmnQmjDKBKETfAeHlkHnYT330/Nz2uPbUR8I88UJCEQ/JPqQFzFTpkQIuyUL2ccR+HRKfQhkj14VMZdREKJ0ppSzgceBXIvLN8fZfsWKFrFkzRqrSUfR3p9j4wlbWPrORfDYPwPyL5rDi5guYuWhCoj4nTcEusP65Lbzx9JtkerMMdJBpXDyD81bOp66xhtrG6hGrQtubOnnon56gr6OfcDRMKGyS7s2w/bWdlNeVs+yqRYOe/5HzOXQe7uLuP72DB7/1GJX1FWPqyad60pRUlfCxL79vQq97PHZv2MeD336CRGmcZHl88Ppd16PrcDfldaV86M/vIl4S6MSfSXj2Jsg+7Kcomugwh4BRhYp/EBUa6myJsx9Jf0/nljv7tVevLJ3dgr84ai2B+MfB64Ds0+AeAGwgzpCOTOLq8xrVqNI/RVknphTp5VdB9hF/cXWEG4fXBuZMVOKeKSMxrJRaKyIrxttvIrJiFPBDYNuxGPUToaQiyVV3XsYVt6/AzhUIWeYwQzeZ2PkCD//TE+zbfJCK+nJqG6sBbXz3bz1IV3MXH/xf7xnxw9HX2c/9//BLAOpmHXmsTPdmCEVCpHvTvLVmN0suXzjkeCusPfTXn1qH63pk+rMUbIdQyCRZkRiWq25FLDK9aU4ndr7AE/c+Q1l1ybDQk2ka1MysonV/O688+gY3feTa0zq3gJPDCJ+PWOeBsxNxWwCljbk5Z8QsExWahcT/B/T9ta5SVTF03oUDZo3WcUdB5r91yzxl6NTHwla9+DrwmAfaww8t0lIFxok11RBxdONto3r0pwFVA84enap5nJW5k81EWMergI8Bm5RS6/3XviQiT07A2EMwDOO0x4g9z0M8GdMbfvmR19m/tYn6ObXDjG9dYw1dLT08/t1n+MhfvHeYcX/z2U3k0vnBm8EArQc6iMQiWOEQPa299HX2D5MKKK0p4c3fbqb9YAeGqTVpRAQrHGLGwgamza0bPJ+dK1BeO/T4dF+GVx59g0O7mrHCFkuvXMT51y6ZsAKm3ev3kc/YYzb2qGqoYMMLW7nqPSsnLf4fcGIoZYG1BGUdW3hPKYWY1RCai5YTHoi3F4XiVAycvb6WDBC+WHvnXo8vDBbTISCvT/9rHId+TDHuYS1tYI4h7KcUKANxth235MJkc9KGXURWwbita88oRIQD25pY+8xGdm/Yh3hCeV0Zl73zIhavXEAkdsQA5TJ53vzNJqqnV476uFZRV0bznlZa9rUxbc6Rcn6n4PDms5upqB/eaNe1HQxDoZTCDJm07GsbYtgF4fDOFg7tbKZ+Tg19XSkSJfoL4jguezbuJ5vKMveC2WT7c+zesJeKujL++Q9/QFVDOaneDK8/8SYFu6DnLfD0fzxH9fRKPvPNT7Dg4rkn/T4e2N40bhpqyAohrkfn4S6mzx8u4Rpw9iCFN/2F0FJglLi1qtCGPXor5B7zY+xJMIuKkLwUSA51Mn1aJX9shSdi6fOdYUydeMYUQUR4/oGXef3JdUQTUWpmVKOUzj3/9X3Ps+43G7n7f94xmNHRsrcN1/XGDA0ppQ30/q0Hhxj2bCqHYztY4eHHRuIRUj1pQlYIKxwic5TUbro3w74tB4mXxpi9pJGNL23FsR1C4ZAOx5QnaN7bhucJTTsOEwqFWLRiPlbEYs2vNrBr/V4SpQnq59RgmvppxBOPvs5+vvaJ7/Cl//4cc5bNOqn30nO9Y/7inQNNbQK8LmCcbDDl57I7W7W6Y/55nRo50K9V+rSHn/jAyVWMGgl/EXcMOWNAi5eNLhEyVTn7Sq5Oks2rt/Pa42upbayhorZs0GuOl8Son11LT1sfj/7r04N56k7BGSuVdhDDNLCzQ3PQQ5Y5KLV7NPVzagebZnueYB5Vqdqytw3HdqifXUuyIsHilQuw8wXSfRmcgouIYOcKbFm9nUSJLlSKJaPY+QL7tzWRKI3juS6dh7sR/wIMZVBWVYpbcPjvv3voRN6+ITTMq8POjS2w5LoeIlBRe+ZlHpxNiNuOl30aL/U9vNT38fIvIRPtqaq4rvgcfRZgb9Nx9cIuMGdB+Bp9XOFNcLbrbBkjDtknkP5vIM6+E5uLMU3H9mWMdSe/AYmyzj+xc0wigWEvwvM8XnlkDeW1ZcMM6QBV0ypo2tFMy16tKJksT4w+izsIAAAgAElEQVRqnItxCi7lRzXqiCaiNMyrp7/7yIdL57unMUMG4ZhFJqWLkqqPEkJrO9BBOBoe7L9aUVfORTedz4yFDYjnkc/ksbMFookoF954/mDWyf4tBwfXDKyIRS6TH6YGWVpdwo51e2jee3J6NgsvmYcZMiiMUlQF0N3Sw+LLF5AoC3LaJwMRDy/7JNL/j2C/CG67ruzMPoH0fwXPXjdh51LWhegsl1Fw9oK7V1eYmjP9lMeCjq8b1WjJ4bjeZk4HySPp752QcVdKQeQWX8ZghDmJgNcM4Uu0VPAZRhCKKaKjqZPezj7qGkcvelBKYZiKFx98lbkXzMJQinA8TKo3TUn5yEp5TsHFDCnmXzRn2Fgrb72YX3zzMcIxi0M7mmne24bruFjhEG7Bpb87hRkyicTC5LM2TsEh1Z3GKbgsvWoRseSRR9toPELjedNpPG862XSOtc9sQKEIhY8s/Ha3dmMYasgcMn0ZItEjOfA6NKNoeuvwkNDR8RJLxrjxw9fo2H1DBeGic4gIve19hKMWV9552QmfI+DkkPxvIf+sn/JXnCBQpuPQmZ/hEccIT4CGf2i+lgv2ukbIZnH8RVNDFzcNFDw42/S8VBQkrKtNQ42AqWP1niDZX0DyT4473m6El+HJeyD7qD6vKgMMrVMvObCWoWJ3nvx1TwKBYS8in7UxxvlwtB/q5K03dnNw+2EObG0Cgb7uflr3d7DsqkXDMkBc16PtYDtX33X5iLnaDfPricYj/PpHz+PkCoTCFoahbxaxZIRYSYyy6hKUoRAREqUxVr7rYqYvnEZnU9eo83QKDp7jUVKRHJLlcnQqmmEoXdF6FApBTUB2zAXXL8UwDZ796Srslh6duePpJ5y62TXc9j9uPq6WgwETh3gpP+WvYWQFRBXRxi7/BGItOulcbqVMiP8Okv6+zkoxqvQ5RLTBlhSEloDpOxPS7+fJ+w6TMsFz/RuD73ypUj2Wux9Cs497TkbkSiQ0H7HX6C5TuBBaiIpcDubcM1YgLDDsRcSSUVxv9PZy7U0dvPXGbgCqZ1QN5p3XzqrGNE02PL+FOec3UlFbjjIU2f4cnudx+W0ruPL24TUF2VSW+7/2CN2tvcQSUdywhVNwEBGy/VncgsOFN55PdUMlXa09vO8Lt1FZrxdyKmrLeOAfH6W0umTEuYZCJoV8gYb5Q9PBamZUDWlM4o2QyukUHAzDYM4ECJUppVh+7RLOW7mAvZsO0NXSTcgKMWPBtGHpoQGnFyls03FkYwwzoJK6GfQE5XIrswaSn0XsN7RSo9epNxgVWtQrNP/IYqakfXmXEZQZBwf0t3ntwOwTnFMtKnYrxG49oeOnIoFhL6KqoZKa6ZWkezPDdExcx2X3+n1Ek1Hy6TzV0488SiqlmLt8FvGyOPFklNpZ1biuR8O8epZdtWjQGB/N6l++TsehTnKZHKVVJUTiYRxbL3yapoHreDTtaB5ssbf+uc3MWdZIX1cKpRTTF0zj8K4WahtrhoRXRIT+7jRVDZVDQjUAjYuns/XVHRT8bBzxhHjp0CeJno4+LrxuKVWjzPtECEcsFq04u9qPnfF4Heiq0TFQClA6G2WCUEYJKnojErlehzxUCArbkMx/H1sK4mj66uOg18EcIHTWOxSBYS9CKcVV77mMh779BJF4BPE82g910d3SQ6onTU97H/HSODUzqkYMq9TOrKKjqYtbPnnDuE22s+kcG1/YSkVdObve3EuiLI5CDUl9NEMmqd40Pa292Dmbn3/9UeZeMMtPDVR4nodjFzi8WxcYhawQjqOzdOZeMIu3f+xanvrhcyTK4oNeeTgaZvl1S3jzt5twbL24OqAx47ouPW19lFaV8JHTLD0QMAmoKKjhYbjh+wFMvCy2UsZgcZKE5uk4d3FjDJXQ5x5ISfQG5lpU9zGQtGCMvhYkXh9irwX7Jb+5holYF6MiV6CKGoaM1wj+TCIw7Eex8JJ5vO1j1/LQPz3J4V0tWJEQVsSip62XdE8a13FH7RlqGAZK6UyP8Qx7R1PnkDRGNUqNl2EY7N/WRH9XCitiUV5bhmEaWGELzxO6WroJRy0uvGEZBdshURpj7gWzqW6oRERI9WRY9fBrRGIRymtKKRQc4iUxZiycRtuBTgzToPNwN/qZV7Hw0nn8/lc+TO3M6hHnE3D2oELzkdxTY+dySwEwT3lJvTKSiDXQGMMX41IlOobudYNrAz1+6uNrOhXSnKbDNeY0nSkz0vTdZiT1fZ0bb1TqlnziQmE9Yr+BRG4EbLDXAjlElUPkKpR10XG3DZxKBIZ9BMpqSolEw8xY2EBvex+e5xEvixONRyitLqVlbxvhaJjG84YLkGlnevy7vud6KMAIGYSjYZyCM2KRk+d5NO9twzAVXk+atc9sREQorSphxoJpVDVU0La/g4Jd4IYPXD14XLovQ+u+dmobq3nHJ29g62s7efWxtfS09RKOWlRPr2TGwgaqpldSO7OKZFmCxVcsPKksmIAzDHOGNpBey8jytyJaCCtyLWo0id4JRMVuRbwuPxOmTBt2SsDdhv5mlfvdmVzdYMPZAdZCVOz3RvS0RfJI+j/0H2ZD0YlMULXgNEH/17X4mNkIVABZneqZfxESv48yz8zvQ2DYj8LzPF544BVqZ1UPkZPtONzFW2/swjQNEqVxDu04zLS5dUNCJ66rBfqL4++jUV5bhucJ4ulCnh1rduN5gmM7KEMRL40TL4nR35Ui3ZchFDKpn11LNKk7NHW19NDe1Mnc5bOYPr+e9c9u4crbL8VzPV74+StsWf0WnuehUOQyeVr3tVEzs5rl1y3B8m8gruPS1dKDazt86Et3jfuUEXB2oZSCxIeQ1Pf8LJVqP3ccLV3rdUBoASr69nHH8pxW8Nr0mEY9yjz+Jz6lwpD4GFLYqitOC9vB3aFvPvjx8eKiKWUB8SNZNEch9hYtIzxSf1avzy94imlvfuC6iYMZB68bSf87lHwBpc48DaPAsB9F6752ult7huSyOwWHSCyMQisWhiMWnugwSPF+Xc3dLL1yESHLZNOqbax/bgvp7hTx0hgX3LCUhSvmD6ocllWXMuf8RvZtOUhHUyf93SlEtAojjtDd2kN3Sw+Z/gyhsEWyPIFjOxze1YN4+gYiIqx/bjN21qa8tozWfW08+9PVtDd1Ut1QiRkyEYTNL20jm85zaFczZdUlVNTpGKUZMqmZUUXH4S6e+fELvPfzt52+NzpgSqCMSkj+IZJfDfbLOo6tRGfDxG5HhVdqgzsCIgUkvwrSPwHvAIhCjDIwapDwJVrL5Tj10pWyUOELEGs5kv6u1ls3/AIh6dcxctCSAKpEZ+s4O7XXfTSFN/R1jIR7APBj/G47hBy9iDuAUQHuIaSwDRW+8LiuYSoQGPajSPWkBx/r8pk8h3a10Lq/HQTyuQLth7oorUwSjobJpbU2vOd5dDX3kCyPs+SKhfz7X/yU/q4UybIE4WiYdG+WX9/3Aqseep33feHdg2mS17zvcp6/fzXZVI7p86fRcbgLO1vQ4UUUmXQWp+BqGd6QQU97L1bYQllHsgIKtsOONbuZed501v12M+0HO4fI/2b6svR1piitSuLYLjvW7mHFzRcMSXGsrK9gz4b9dLf2DBr9gHMHZZSiYu9Eojf5jTIMMMp13vkoiOSR/n+F/JPonqQ1flpiDpyDICnEPQjJPzixcIaktG67USQMp0rAPOqpUsUQe83ICpNeusgTL8b1uy8l/EIoGMiWGTp2UjfhOAMN+5mZfX8KGdBvyfRn2fDCVlr2thGNR4iXxqisK6dmehX93Wnamzrp6+yj9UCHHxJp5D3/37t48vu/xck51M/Srd/CUYtEWVwbW4EHvv4IqR7tdeQzNjUzqkiUxcll8pRUJCmrLiEUsQiFTSpqSymvKcVzhUxvhnA0jDoqp9cKh/BcoW1/Bxte2ErltKEpiqmeNCIe+YyNYxfIpnN0NncP2ccwFAI0720j4NxFqTDKrEGZVWMadQDJPKSLmygBoxwMw1/wjPkVoT3gHEayD40rtzHyCXJoj3q89arw6HovZpk/ztFj+9k1Suk8fqUY0cdVYb9H65lH4LEfxbR59RimwfbXdiLikSgb2rYtURYnVhqlbV8HCy+Zx7Xvv5L62TWUVZey/rnNpHrSQzzmYkoqk7QeaGfz6u1c/q5L2PjCFspqypi1tJG+jj56OvoQT1eXVk6rYPPq7WTTOQ5sO0QkqiUFQDBNk1BRbN9zXUqqk3Qe7mJOUds9x3Fp2nGYtoOd2tNXWt5g00vbuPCGpVRNK8rFRy/oBgSMh3hdkH8ZkCO66cUoBSR0jN7ZA14rmMepm65ioDzf8I7lf+ZAjfKUaa2Ewg70omjx2P5NS0SvJZh1Q8MwA4g9avx+qhN47EcRjUeYtWQGXa09REZp/JBP56mbXU26N8OcZTMHddLXPrOBksqxU6TKa8pY++sNAHS19BBNRDAMRXltGbOXzGTOskZqG2sIWSFiyRhO3sEtuGRTOXLpHPmMTbo/S19XCjtfwM4XMK0Qs5fOJNWtF5Y8z+PwnhZ++18vsm/TQexsgVw6h+t4mJaJ67pse3UnLfuHeuhl1cHiacD4SOEtdDs7NbpHrUzA0yEV9/Bxn0MZSQgtBhldNkNPJo8Kj9wpTlkLtYKj13HUFlPfaKRfz9EcpcJa0hBeedxznwoEhn0EqhoqKalIkupJa1leH9d1SfWmCYVDLL58IY7t6Pi7T19natSG0gOEoxbp3gyu6xJNREfUaRmgtCpJe1MnSikSZTEM0wARXbPhemR6dZhl4Yq5lFWVIp5QsAtsf20nW19+i1w6T6IiTsgyUUph52yyfVki0TDx0hh7Nuwnn82T6ctSWl3C9AWnv9GF67j0dvTR19mP6x5DsUzA5CMpjsl0KPGlb09MbF9FbtBCZCOFU8DvSTrD78g0wvEqjEr8Lhj+IqvXr/PyJeuLiuV1Sz5jBIfG69LrDNYEiJ9NAkEoZgQ8x2XuBbMo5Asc2tlCujcDSmuq65ZztYQjYZRhDDHMsUTEV3IcPT7pFFzCUQvDMFhyxUL2bzlI6QheviC0H+zEili4BRdEl+Vr46f0WgAgnjB9fj12zmb20hm8tWY3PW29FGyHcMRCoYgmo2T6MijDQNDrB2XVpSDQtLOZRGmc933h3RPWEu9YyGXyrH9uM2t+tX5wETpeGuOyd17E8muXDFGCDJhiqBKOqRLVEzDNI4Jdx3uaUCMS/whkf6bHMsqBkE5PlBSY9ajEx8dcD9BZP5/VqY/2al3spCIQux1iH4D8434ef4W+JsmC9IBRhkr87hmZ6ggTZNiVUv8O3Aa0iciyiRhzMqmcVoHneDTMrad+Ti121kZEe9sD3YZEBM/1KKk4oimz/LolvPzomjGrNnvaernopvNRSrHg4jk8XxIl1ZMepk2T7c/S19FPSXkCTzxS3RkMU2EoAwHsrE04Fqa8ppR81sbOFrj1npv53p/8CCNkULCdQSleKxwiloiS7s9ihUPkMzZ9nSlEhI6DnXz43+5i7vKT65Z0PGT6szzw9Udo3ddOJBEmmogQjlqA4rf/tYrtr+/ifV94d9ADdYqirEWIKjni9Y5k/MTRCzfmnFGrQo8FI7wcMacjhTVgv6kNulEDkdtR1uJRUzGHzFdFUZFLIHLJ0Cm67Yh3ORQ2gLNLN/AwGiB6J8pajjLO3B4BE+Wx3wf8X+DHEzTepLLwkrn89r9ewnW09x2ND18gSnWnqZ9TQ1XDkQXIpVedx2tPvkk2lRsmvgVaFhgRll+nU7MisQjv/fxt3P+1X9LelKOirnwwK6e9qYtMShvi6mmVWCHdHk/5HZ1ClglK59Uf3tXCFbdfSs3MKmYvnUnbwU7cgotNYVDW2jANps+rxwgZ9HeniSYiNMyro35uLYtWzD91b+YI/Oo/nmX7G7tId6ex87rnqohQXlPKjEUNtOxp4/n7V/OOT954WucVcGwoowKJrIBsH3iH0LH2IgMrotMmQw2o+PtOXu7XrEKZt0D0lpOb+OD0sjqrp7ARffexfH14T6dAet1I9hFERXQaZWgBaqTF1SnMhDx7i8iLwDirHGcOibIEK991MW0HOgarSYvJZfKk+zJcd/dVQz60ZdWl3PnZd5LqSdGyvx3b7xzkOi6dh7vo7ejjts/cTHXRzWDa3Dp+568/wLKrF9He1MHhPS20Heigoq6csupSrIhFsizBtLl1VE4rJxwL61COaQCK/q4U9fPquO3TNyOeEE1GueimZVRPr6KkMklpZQlV0ypomFdPaVUJybIEZVUlVM+oJJqIMnNhw9GXd0rpbO7i2Z+tpvNQF4ZpkCxLkCiNkyiLk+rJsHnVdoyQweZV20n3jtG2LGBSUbE7ILJS55lLThtyr08X+3itWlum5Euo0JzxBzuNiBSQ9E+gsEl752aDXmA16vT8sw9B+vu6KtVej6TvQ/q/jriHJnvqx8Vpuw0ppe4B7gFobDx5ne9TzZV3XIpTcFnz9HoMwyCajCCekE3lCIVDvOdztw7Tiunr7OfgW4dxCh6t+9rY9vJblFQlqZlZzWXvvIiLbjp/WJimp72XN5/dzNZXdqCUwi241M+qYeFlC1j9y9dQShtvwzRIlicoqUiSz9p4rodhGmT6s8xZ1kg4ovPlPU8wDIPZS2dwYNuhYSEe0BrskbjWp1l+3dJT+j4ezaqHXqO3tZfqmVVDhM8Uimg8glMw2bluD42LZ9C0o5lFl57ep4mAY0OX/38UIpchuRfB2QJeRi9mRq+D8LUYY+m8TxJS2K4rVY0ZQzN6nO16gVXV+g0+3COpjl4vkroXkp89IamEyeC0vfMici9wL8CKFSumfE960zS54QNXceH1S9m8ejste9swQybzLpw1RBpggJZ9bTzw9UewcwWqGyqYNqcWp+BrsRQc6mbVUDuzGs/zOLDtEGt/s5Edb+wa1Hifc/6swfz3jkNd3PunPybdm8EKW4RjltZ1ae3BNAyqZ1TpVnk5G9MyyWf04mPNjCrqGqtJ9WSon1NL28FOMv1ZYiXRQSPqebozu1vwuPim5dQ2nr4Pqud5bFq1HStqjapmGbJC5DJ5etv7KNjOiPsETA2UCoG1ZOSqz9OIuK26A5LbBBhgLfVj5COkHtsv+aqRRZ8/z0/JHHhdIroj04BhN8rAa0XyL6Di7z0t13SyTL1b6hSjoq6ca+66fMx9cpk8D37rccxQiNqZR9q8hSyT2plVFGyHX933PBV1ZWx5+S02vbSNcCxM085mwrEI4go73thF98wqZi9r5MC2psHMGRS4jocVDmGGTFzHpb1Jh2qUUsw5v3FwQVcpxXV3X8lPv/ow6T6T2sZqDu1spre9D8M0MEyDbH+OmpnVXH3XZVxz1+XD4p/ZVJbmPW04BYeSiuS4XY7snM3OdXvYu+kAruNRP6eWxZcvGFFQLNWdJp+2R1SxLMaKWPR19I34tBFw5iMi4B1G7Dd1WqFKoMIXgDln3IrXoeO4SPZxrXGjTCABeODsRnJPIrG7McLLhx7kHgJ1lDPjNjO0yjXs57gXoaqhsBbx3okyhhYtTkUCwz4B7Fy7m3RvlvrZI6d1WeEQ0XiEn3/jMdyCS93sWrpauinkCoSjFuIJVtSi7WAHuVSOXDpPsixBd7QXw1BE4hGyqdygj1uwHZyCw8VvW06mN8PsZTrrQHxhMjubZ++mA9jZAnbeJp+zMZRBOBZm8eUL+NRXP8rMRUPDSLlMnpcefIWNL2zTqpBK4XlCVX05N3zo6hGzZvZs2s9j//YrMv058mm97mDnCiTKYrz949dz3fuvGJJC6boeJRVxOg+bgwvTI+E5HiErxMxFpzf+H3Dq0QuX90PBb1JNBKSA2K/roqH4x1Fm1bGNlXsa7FUj9Gz1pQQy/4mn7sGwisN5JsPy6qV/hMrTo5wZZerDpA/xCoi9wb9JmBBaNG6Gjriteu0BwKg75XLAE5Xu+FPgeqBaKdUE/KWI/HAixj4T2PTS9mHSA0eTKI+x6qFNXHnnCkDY9eYeulp6dJYL+jNjWSE6D3VRP1t7yeU1pXQ0dVE3q5aKujIKuYJuAWmoQSVIZRgsuWIRAK8+vpYXHnhlsM/pzjf3Yok1WEFbXltGsizBQ99+gg988U7qZ2vlvXw2zy+++RjNe1qpaqjAztpk+nMoQ+jt6ufn33iU2//gFhavXDh4PU07m3nwW4/jFlwObjs0xFB3pLLc9+Wf0bavjQ988T1H3oPSGFbUYvqCevZvbSJRFh+WO++5HuneDNd/4Iox6wECzjxEXCT9n+DsPtJMoxivA0n7sexxmlyI16vDKqM24o7q0EruKST0R0eeOq0lYG/RC6aD+FWyg4NnYaRYunhI/hXd6EP8c+CBvQ5RMST+kaNuIiBuC5J9REsrDEgjiIeE5qBid6KOV2rhGJkQwy4iH5qIcc5Usn5a4lj0d6b1I6godqzdTcehbkzTGKL54joumf4c/T1pookoyYoEfZ39pHvTlFaVEEseaXbQ09FH+8EO3v3pm0mWJ+hu7WHVQ69R21hNf1c/h3a2UDO9aojh7Pc7QIXCFg9++3E+9dWPEo6GWfebTRze2UxJVQnbXt1JX2f/oL8iAonyBA//81PM/t5MYskYIsIL96/Gztoc2HaIaCIyLL0zGi/wxA9+y4JL53PxjecDA235lrLuNxtpPG8GB3ccRilfqligYBcQT6ibXc07f/9tJ/m/EjDlcHb7+eLFRt31c95NrQfvHtJqjdHrxxxKCpsH8nhH30mV6rh7kVaNCl+B2OuGtuAzanU2D/it9pzhufeS0X1f86u0vvvRC8NeGtI/RJKfQYV0coi4LUjqX/1zFF2zCLjNelvyMyhz4iu+A0mBCaC0utQX6BodO2frtnltPXQ0dZEojQ0rtDZDJoap6Ovoxym4KLTX3jCvnmw6R7o3Q7ovQ3+3zpK56/Pv4vxr9MLV5tXbMQyDkGXq2P1AjL6IWCLC4V0tJMpiZHqz7HpzL07BYc2vNxBJRNj04lYyvRkSZXESZQn9Ux4nl86xc91uXn/qTQA6m7s5tEunZYZj4RFj5lbYIhy1ePT/PjVElmHFzRcQS0Qpqynl4pvOp2F+PZFYmEgiwvT505ixaBrXvf/KUYXUAs5cxF7ti3spXWhU2Aa5F7SxzL2gC4UIgf0SntuNl3ser+8f8Hr/Cq//W3j5VxEvowfzOtBywWOgFGDoNMYBzEaI3qjz78Ufy6zR5/WyOiwTmqX12AcnLuC26GIss2FkwTAjASqK5J70DxEk8wt9fqN66NOJUr7GvIFkfnFi6pfjEBj2CeCiG5aRTWXH3CfTl6W8tpzm3a1E4hES5QnEG/4fakUsPM8j05chl85TNb2KBRfP5dJbLuS8yxewcMU8Gs+bzl2fu5XzLl0weNz+rU3Ey2LYeZv+zhThETRrQlaIgu1QyBWIJaNsWf0WPW295DN59m9tQhkG0UR0WBpiLBHFDJn8+r7nERH6O/vJprQgWTgyemm5FbHo60yxf2vT4Gtl1aV88H/dSTQRprejj5KKJLMWz6B+dg2RRIRLb7mImz9x/VnTVDigCLfFLwDqAvt18Jp9md/kkdcLG8HeqlvW5Z5GK0iWaqObexjp/xZeYbffi3VsZ2oQdeQzqpRCRW6B2N2ApxdOvXZQdUBOe+NmUThFsuA1aUOsqoaMNfw85eDsRdx2fW3uQV+qYLT9K/QTxSnIkQ8WTyeA2ctmUj2jis7mbqqmDf+PzPRniZfHMSyTph2HKKnQ8cNYMkI2nR80jiJCKBxCPKGvK0VFXRkzFurHNCtsUVlXjp0r4Doul7x9+bDzgC+96zfqGItQOEQuk0NEh5LSPRkS5aOvE0TiEXo7euk41IURMinkC+NKO4knKFPR29435PXq6VX87lc+zIFth9i5dg92zqayvpzzVi6gsn6ML0LAGYFIHrE36xi41waEwVrui3mZvmceHmoklQLieh9nuw6FFDfQVklwM+Csg55VYM7WYZ1QP4QadSekYROxdUXsUa3xtHG/DAlfoo2qZHTDDoD8s7olH6aWDVYJiL4bvE6w14194YNPCD0gvUWvjbW/0lo1TGyz8MCwTwAhK8T7/vg2fvGtx2jZ10aiNE4kEcGxHVLdKULhEB/8szvY+soO9qzfC+X6w1XVUEnH4S5yqTxK6ayRgUXYdE+a+jm1g3opruvR29aLbTu861M3Uds4NFQxa8kMXn/iTSrqdbqlJ4Jx1IfKKThY4RBWNEymvZfpC6ZRWpUkn7EH+6OOhmu7JCuTtB/sYO4FszFDBiJj67eLJyTL4iMugpqmyZxljcxZNvWL1QKOHfH6kPQPtSesynTBDy4U1kLhgK8M6YExiufrdaPFuLoZYuycHeDs8xcsQ+gGH9Xg7tHesXWJbvAxOBG/EXf07aNmqyhl6pvCwN8AoU8iXrdWglSmzmBRIbzsU/o6jgVl+LH6Y2XiQzGBYZ8gSqtK+OiX38/ejftZ+5uN9Lb3EY2HueTmq1i8cgHJ8gR1s2t45sfP09fVTyQWIRILUz29klR3mv7uFNFklNoZVUQSEc6/dgk10yvZ+MJWXMdFGYrFly/k4rctH8xmKWbZVefx6mNrAaX7mB7qIl4ytLP8/2PvvaPkOs8zz993Y8WuzrkbHRAbkQAIMIJZlEjlESWNJdmSA+3RWLZ11rvHc9azc/aPnfE4nFmPx2tLsmTLlmSNx8omJVkUg0iCRM45ds5dXbnqpm//uNWNbnQE0AABsJ9zcA66uu6tW7eq3/vd533e58llCrRtaEYIKORsNj3SgRk0ad/cQveZuT2zPc9DIimrjiGl71m/45mt/NMf/8BXtswShJDPFghETEIlIera78ywgmVcG6T0kJmvgztUXCWLImUi/QalHoD8D4rF/uqNbXATIAeBYHFVr4PW5A8QOZ0+JTPZgOwFY5hkGKEAACAASURBVDNY+/3GpXUQAg8Dqr8C90ZB60CYj1zz+xBK2XSOHRD6KmTh1QVOgO1fDNR6JkurlPOv2pHX7X45H5YL+xLCMHXW3LtyzjH4QCjAh7/wDC994xfkMwWSo/4QRGl1jPUPrKW02l9tD3UN8+jHH6C2pZpHP/EgVsFGN7R5B3vKakp56KM7ee2fdlPZWMFwzyi2ZaMbvk4+m8oRLQ1T1VzJSO8YjatqJ2me+z+4nTe+t4dcOudz7FO+iJ7rkUlmaV7XiG5qlNf6aTVPfnoXb/1wP91n+iirjk2uyj3PI58poKgKdW01NK2pp6pxcbrkZdwZ8KmWCRvcEd/dUVvjK0vy/wIYfsEFQPMpF2H6TUlifniGDAKmX/TcLHh9+Ctiw6c/KEzhn4W//eT3Uiv6tBd83hvLpzOsQ35RVUoh+FGEsR0xHyd+LVBbQa3waRZljsQmbwjMhxEiiFSbiyEfKf+CNOvzk/5z5gr6uAEsF/ZbjG1PbeLU22fJpQt03L/a5/uKX1jP9RjsGmbTro5JVYiqqQQXqee+7/3bMEMGb3x3DzUrqug81YPn+lOrlY0V1KyoYrQvTsOqWj70hfdNTqyu3t7Olsc3cO7gpUnv+QnHRUVRaN3QTLQ8Qrg0RG2rv9oygyZf/PJv8d8//xW6T/eimdqkCqeivoxIaYRoWYT3/doTN70RmsvkObv/PAd/dozkaAozbLJpVwcbHlxLScVyKtRSQnrjyMzXimHQUZ9u8eK+cZab8NUhZItB0uB/maoABewz+HrxAP50Z9oP4pBDPhcuavxGpvSKNEi0yLl3gdYy5SBy/gXFHSjy9gJw/P2rNRB8DkVvX9L3LYQKoU8j01/y37tSeUUuKS2/qGsrEIEni88XEPyY/3xPzAzz8FIgM4jgpxDzRv9d5/HeDKnNQti+fbvcv3//wk+8SzE+nOBHf/VT+i8Oo2oKqqZiWzYCwZbHN/DoJx6Ytjp3PQ/bc9EVFXURYRi2ZdN1qpex/jg95/oZ7YsjBJTVlnLPYxtoXtc4g/fuOt3Lt//r91BVpdig9QiETcprS8lnCuTSeT75Bx+mYeV0zW16PMPr33mbgy8dxfMkhqmj6iod96/mwQ/vmIwNvFkY7Y/zv/70h6TG0kTLIpghA9tySI6mUDWFD3/hmWUef4kgpYNM/6VfVCfoA2mD9Zb/f3e0yI0bviRQFgAHn26o8a1xvTFfDx78IKAVte09/ipYCL9oeiPFAaMQPt8+6o/0K2V+UXe7uWIVrBflk27xsRDorRD532YMCy3JOXCHkYWXfPWOFCCk/37NhxDmw4irMmClcwmZ/Sf/fU+FUooIfQIxR/rTXBBCHJBSzp4FOPV5y4X9nYGUkv6Lg1w4cpl8pkBpdYw129unrTAH0il2d3exr68Xx/PQFIWdDY080NRMdXj+ybzrQefJbn781ZdJjaWnPR6rjPLM80/ROE90XiqZ4eC5TvaPDJBSXcKhAPfU1rG1rp7y4BXFQiqe5uKRy6TiGYLRAG0bV1BWM8et7QIo5Ar83X/8NoWcTWnVzAtILp0nncjwK//3J6ZZJS/j+iDtM/5qfarKxOkF92RxGGioSKkI/GnOouoD1/9ZBIFykANg3g/aKii8ju/TovnWv+4AkAciRb24U/RtUX2KRqb9xzB8pcwE1SIt/2cl5l9sjK2Ikv+wdFTM1efCSxUbvQLUmvntBKQH7kWk0w+A0Oqu2RdnAsuF/Q7HiaEh/v7oIRQEFaEQmqJguy6jOX+o4nNbtrKmcnrTxfO8opukS6TUHzK6VriuS8+ZPoa6R0FAdVMlTWvq543Ny9o2Xz98kAvxMUK6Tlg3cKXHeCGPguCT6zeyvqKKV//nmxx55QSeB6qm4LkeUkpWb2/n6c89NsMxc8FztPs0L37l5/MOM430jrLpkfU8+eld17TvZcyEl/lG0fJ2Ss/E2uvTIcIENw7epeIvAkz3W3H94i8LPn1jbPSLsn0MCPvFe4KvFzGQ4/5mEmAcv5hH8LXrExcOWbxYmP7jar2/0vdSoDUgIl94x50nlxqLLezLHPsSYGwgzsWjnWSTOSLlYVZubr0hbnc4k+Efjh6i1AxgqCqjuRxjuSyelJSYJlHD4OtHDvH7DzxEeTCE67ocf/0Ub79wkNRY2ufHPcmqra3c/8HtM6SRcKWAH37lOCO9YxgBnXX3rWbdzlWs6GhiRcfi4syklHzz6GEuJeI0REum8ekh3SDvOPzDscOsO2cztreb6ubKYkiID8+TnD/kc/vP/f4H5xx48jyPnrP9nDt4kUK2QHldGcffPE2oZH6PntLqUo794iSPffLBu9Z7RnpjSOtokfc2EPo60FYufeqPTOAX0amw8YssTPNbmXV7fOpC6BB4L0JrRCb/yOfjZaZI15QU5YLhoh58AH+OUsFf+Zv4RX7CdyVb3Gd4+rF5BaTTeVMKu5SWfxGSLihlC/ravBNYLuw3gFwmz0//9hXO7r+AEGLSVvfn//A6m3Z18NgvPTTvZOZc2NPbjQTyjsPevh4KjosqBEJAbyqBQKEiFGBfbw9Ptrbzk6++zLE3TlNWHZsM8vA8j0vHuzl/+DLP/f4Hp4WC5DJ5fviXP6HzZA9myPd5SY9neeXbb/L6d/bwoX//3kVnoHYnE5wdHaH+qqI+gYCm4aVtXr58ifesqMUuOH5D1/RVPoriyzN7zvZxZt95Nj60bsY+xgbifP9//JjR3jiarqJqKlb+LKf3nqN6RSWrt7XPeUeh6f5nYuWtaV47dwOkdJH5H/sj+eCvVqWLtPb4lET4lxFXDefcEEQEGL7qwQCQxi8lBfwi7xb/+SlfPjwQTlHqWAD82DkZeR6y3wTHnt5gFEaRQy/edYpwkb93/H1NWudJX1KoVl8lK1RY8EJzjZAyjyy8DoU3/fcgha/o1O9BmI8v2pXyVmC5sF8nrILNd//fF+i/OEjNiqrpEkHP48irJ8imc3zw809Pqk8Wiz29PeiKyoH+XgxVpcScvkpyPY+BdJrvnT5JXZ/DsddPUddWM+0YFEWhvLaUbCrH9//iRZ7/k18mEDKRUvKjv/pXuk/3zTjucEmIXCbPd//8BT79Hz82q17+ahzo60NTlXmVL5meMYY1m/1vncIeySL8vwcqmyppWFlLKBqkpCLK3h8fYsODa6ftKzmW4tt/9H3f7vgqyqXv4iADl4ZQVIVVW9tmHbDyZwAU32jsLoPMv+Bz1LM5HHoJX5ER+QJCXRqdtDC2I+0TwJR+hdIIztHi4NAEpx4o/svjF1cPiBS5eQPkiK9PB4S+Bcm3fY78angpJn3S1UpwNb/xStZ/HNXfHx5crSxRDD/NaYkgZd4fvHI6/caxKJ4D6YJ9GGmfgsjzN82t8Vqx7BVznTiz7zw9Z/qoaqyYUdQURaGmpYpz+y/SfXruwZ/ZIKUkZ9tcio+hCgVDnXntVRWFqG5ybmyUN398gNKq2JyFNRQNks8WOHfwIgB9Fwa4fLyLqqaZxw0QDAfQdI09L1wZn06MJDny2gnefmE/x984NS2LdCyfxVTnK5qSvnODZBNZ8q5DuCRIuCREIBJgpGeUI6+eIDmaIhQNMto3hutMn+47+NIxMskssVmao7UtVWiGznDXKJnx7KyvPj6UpOP+1QuGe9xpkO6Iv3Kcy7ZWiQEesvDy0r2ottovsFMVHmqlL3GUWfyirvn/hFE8hqgvi9QaAcPXbivVCNUfABJKBAIf8jf1Un6Bl26x0OeLRb3Ob6QqZpFHL/G5dSXsT7BO/RrLQvG1K31Kaokg8z/zZZdqo98HmEBxOhU8ZPZbC05j3yrcXd/2W4h9PzlESWV0zoIqhCAQNjnwsyO0rF8cXz2xna6qjGSzlAbmbiZKQPEE51JxtlTOv0oIRYKc3X+BjQ+t4/ibp9ENbd4Vdml1CecOXGRscJzd39/LybfP+oo1RcHz/KzVrU9uYtfH7iOkGTje3KPWo31x0oksWpmJqUtE0fhMURRC0SBWwebUnnNsfXITIKYdl23ZHH752Jz+MRX15XSd6iWfyTPYOTwjcamQs3AcZ05fnTsZ0j6Ev5qdz7a2wl9Nes8uCQ8shA6hzyIzf+NHySllQAC0TUXJo10sumF/8pOiHl1U+7+TeX/Ix9gO4ooSSpjbkPkNRWal94rHi6jzV+LCvDKib2z0B5G8AfAkvlpG9WkR8kUHxmZ/QGkepcq1QMocWG/707NzQSn3z4nbCbdBgPdyYb8OuI5bDMCY/xY3XBqm/+LgNe9/XUUle3q65y2+ecehJhQmY6TnfM4EFFXBLvjWufHBxGTwxpzPVxQ86fG9P3+BsYFxqpsqpychOS77fnKYbDLLlo9s4UD/XO500rcQLg/ipSzMwkwFlmHqpMcz9JztY/X29mkNzmwyh2O7c3rd64ZGx/2rOfLqCQY7h2lcXY8R8PNhx4cSeJ7k/b/51KzN4zsebl9RETIPJlN/EviKkhuHUKsh8jt+rJ31ui9vFCqE/q1frHN/71sATKzQpVNcbZcWV7ZpMJ+c9t0WSjnS2ALOSVDun/IeB4uqGfzmqlrUwpv3g3UU3EtF+WPQ91wXYT9II/TpmZF4NwK3F1/VsxCdJ5DOecRyYb9DMUElLoCJyc1rxcbaWtRjCgXHwdRmfkR5x8bQVCrDYSzEvDFzAKmxNDUrKhnqHsEwdRx7fjMjKSWJoSSFjEXzuoYZFxhVU6lZUcXJ3WfpeHgd1eEwo7ksFcHpChUrb5NKpNErI0SO9yE9DTHL+dAMjYHLQ3zqD6cHBSuq4vtaSznnRS5SGmbdfavJ5woUcgXig+PohsamR9az5bH1VDbcPg2tpYXGopqDEq6oVpYGQokgAg9D4GGkdAB18vOR5r3IzFd8TbpS7l98pFekb7IQeBahr525z+CHkZlh30ZAqfJX6WolOIGi90yVb1sA/hCSeR84Tf7wkr7Tf662FqGvXHrtunSKdwQLQZ29V/AOYKmi8d4L/Dn+N+hvpJR/tBT7vV2hqior1jUy1DVKrHJuWWNqNEXHA2uuef+ryytZW1lFZ2KcVCEPtoeVKWC7Lp4qKImG2NmygmQ+z+aONuJ7uqlsmDmAk0lk6TrdS9/5fmzL4dLxbgpZi+RokpKKyJwXnXQiQzaVo2FV3ZwF1c9iNTj2ynE+99ld/PWBvfSmklQEQwQ0DdtxuNDZz2AuS2MPlKdhPJEkWh5BnzpV67rk0jkaV9fPUOJESsOU1/gN4PA8ska7YPPUp3ex7anNuK6LoszfzL0roK/3px/ng8wVeehZYt6WCFdLKoVaVVzR7/dX9G7c/4W+Hle7n7OJKG/3HCRRyBMxDXbWN7K2sgpTi0D4N5HWW35DeILH11f5ckhUX+suTXxaJwtqKSL8xZvfsFRKAW9hQy9hz0/X3ELccGEX/vjUXwJPAT3APiHED6WUJ29037cztj+9hX/+sx8RLY+gKLOrMWzLYfOj669532HD4LGWVl4+d57eM70MWTk8VaChEM2D2VvgzKjD2s2tvP+ZLXxzfw+peIZo2RWOOTGS4sTu0+QyeRpX19O0th6BIJPKcuHIZezXTrLpkY4Zxd11PRIjqWKK0vwa8UhpmJ5zA1SFw/zuzgfY19vDL7ou0zM0SuepHiJxh/q945TZKp7r4Touo71jxaxTgcSXI9Y0V3Hf+7fNOBYhBDue3coLX/oZoWhw1mJdyBZQNZW1O/zx8WtVIN2pEPo6pAj6tMds/LmUvtY68IGl17MvdGxKBBF4FGk+woTOfSxX4GsHDjCYPkdINzBVlUQ+zzdGDlMWDPJr92ynJhJBBJ5Amrv8FT8UG7AKOBf8wGsv7r9ffRtCX7tkPPq8UGp8f3hvbFpvYBqk/z5vl4GopVDF7ADOSykvSikt4NvAh5Zgv7c1Wjc2s/nR9QxeHsLKT7/9ymcKDHaO8MCH7r3uiLdddU2MH+3Dytq0a1HWiigrRZjqYAglFmA8nqZs7whlVTE++QcfQSgw0DlEfChBfCjBoVeOYRdsmlbXs3Jr66QUMBwNsf3pzcQHxzm97zy25XPvUkoSIymGOoe5//3biC5iwGrqAqbENHmirZ3fWbuVFS8N8Z7hMO+LNLCmshLpuoSiQSobygmXhgmVhFizYyXrH1jDtvdspqy2dM4LYMf9q+l4YA0Dl4YoZAtTXluSHE0RH0rw7G8+eV1TtncyhDAR4c8AKb9ROVWNIfN+9Ju2DmHeP+c+bv4xCoQwKLgeXzm4j0Q+T2NJjPJgkLBhUBYM0lASI+84fPngPlKFQnE7HaFW+v+EjhAqQl+NEv40SvQLKOHPoRibbk1Rn3gfwWd9nl/Oor6Sju8Jbz6FUG6P7+FSXMobgO4pP/cAO69+khDieeB5gObmO9+USVEUnvqVRyirK2XPCweJDyVQhMCTkkgszDO/8QQbH1533ZRA575LrLvoMNZeQqco4AlZ5Pkkta7BOjVG5vQwl090s3JLK7/xXz/N5ePdnNl3ns7TvZRVx1i1tZVgNDhD3x2Jhdn65CYGOodJjqZwbRcpJU1rG9jxvidp3dhM34VB4oMJSsrnbrqlxtKsu3/VtMcO/PQIquURq/a3q19Zy3DvGFbexgjoREpDZMazGAGDSGmYoa4R2jevoL599ttpVVV59vknqWurYe+LB0mMpBDCn1itX1nLh377vTStWcIhnFsIKSUj2Sxp28JUVWoj0RnhKPNBaO0Q/vfIwr+CfRZfJSOBIATehzAfvGleKdeCY4ODjGZzNJTMbghXHgzRm0pwqL+PXS3vfONxNgitFRn6HOT+0b9rEEH86aRiJGbgfQjz0XfyEKfhhr1ihBDPAU9LKX+9+PNngB1Syi/Mtc3d5hVjWzb9F4ewchaBsElde80NUQJSSr70+19HKArBcAALj6TiIoGwVAhJf9/J0RRVTRV84v/48LTtf/D//YSuEz2zar+nYqh7hM/8Xx8jHAuj6uo0r5ZzBy/ynf/2AnVt1bNenFzXY7h7hM/8p+eoa/WDNAq5An/5u387zZ8dIDmW5vSec0V/eI1CziJaHqG2pYb2zc08+5vvmUyKmg+u4zLUPYJjOYRjIcpqSu9YLv3MyDD/euE8XclxFHxaqjQQ5Mm2NrbXN15TgQffVsAPbVZBrb0tCvoE/uytN8jaNlFj7s84Z9u40uMPdz12Q68lvXF/iAjb95zRWpeUipIyj7ROgnMGcEFtQhibEXN5tC8xbqVXTA8wVajdCFzbVM4dDt3Qp43s3ygc2yE1lpmkcQwUKr2ZrFkwGmSkZ2zG447lTPNjmQ9CUWbovwHaNq9g/YNrOLn7DJWNFdMkh4WcxWhfnPs+sG3adGo2lUe63gyFTkl5hK1PbmJsIM5IzxiqnidaHuFTf/hR6ttrF12cVU2dvIjcydjX28O3TxwlagSoj1yxYshYFt8+foy+VIoPrbm2uz2hlPsqlNsQo7ks5YH5+zUBTaM3lZw10nExkF4amf+hL4OccBsAUMLIwDMIfeuSLAKECCDMrWBuveF93UwsRWHfB6wSQrQCvcAngV9agv2+azFRlD1PztqYnYDneqjGzDuDWGWUk7vPgoBgNIA2i2TSdX1O9uqiPtof59TbZxnpHUXVVNo2r6D7TJ8/mo//9xIMB3jPrzzCPU9snPbHoukq3hzyRE1XqW6qpLqpktRYmqrmyhne7u8GjGaz/POp41SHIjOkrGHDIKjrvN55mTUVlayruj0UFjeKoKbjFm2n54IrPQxVXYyKeAakly0OTQ2BUjvdXkDmIPttZNB6R/sNtxo3XNillI4Q4reBn+LLHb8mpTxxw0f2LoaqqrRvaaH7dB9lNbE5n5cYSbL96S3Tft79g30c/Pkxzh++ROCciaIq1LZW07iqDt24cns+PpRg3X2rJnNRHdvh5998nSOvnkBRFQIhE9fxKOQLBCMBHvzIDmIVUYKRAA2r6mYd0Y+UhqluqiSTyM56FzCBbCrHup1LH4JwOyFjWQykU3gSKkLBSU/6/cVhrtnmEwAUIYgYJq91Xr5rCvv2ugZe7bxEXWTuhvxoLsv2+sbrWlVLa7c/sDWbN4wI+qqW/A+R+nqEcnODX24XLAn5JKV8EXhxKfa1DB/b3rOZcwcv4jqRWYeP7IKNlJKND/t+GPHBcb71n79LPlOgvq0GK2vRf2kII2zQd36A8cEE6x9cOznpCXDf+69QdT//xuscfuU4NS1VM2SH6fEMb/1gH5/5Tx+nom728X7w1QM7n93K9//ix4RKgrPq5LOpHEbQYNW2pY0uu12Qtix+euEse3uvTON60mNtZRXPrFzDkcEBYub8E6OlgQAX42NzDqjdadje4Bf2vGMT0GZy/wXXwfEk9zcu3npjAlJavrvlfIHQwvBl6NYhRODaw63vRCybgN2maF7bwP0fvJfBzmEyiSwTTW4pJcmxNCO9Yzz92ceoqCtDSsm/fPlnuLZLVWMFqqbSuqmZurZq8pk8QggSIylOvnWGgctDIOCTf/DhySI90jvKkddOUtNSPWsxjpSGkR7seeHAgse95t6VbHvPZgYuTT9uz/UY7Y+TSWT5yO88s6hm6Z2GVKHAX+3fw56eHqpCYeoi0eK/Ei7G4/yPfW8zns0tyCEL4TdT3XcgBOdmoCoU5lMbNzOayzKUyeB6Pg3oSclINsNwJsPHOzZQH72O1bQXL3rLLPB9EiFwL1zH0d+ZuPOXA3cphBA8/NGdVDWWs/uH+xnqHpmUU9a31fDs809OZnkOdg7Tf2FwmmZeURTaN7dQ317LcM8omfEMuXSe9/7q4zPcDk/sPoOqKfPy+aU1MU69fY7HPvngvL7mQgie+NTDNKys5a1/OTB53BK/6O98duukZ/zdhp+cP8twJjOjQClCUBUKM57Pc358hBZRRmCelXjesYkYxrzPuZ0hvSzSPuYbg3kJEGE2xHbwezs28krnCEeHBopPFHRUVfFISyutpXPfCS7hkd2C17g9cGd+c94lEEKwbudq1u5YxWh/HDtvE4gEKK2aHmrRc66vOAwyiw1vJDCp2BnqGiEYCczgx4e7RwmEZ1/xSCSZ8Sz5bIHESJL+i0MLhnAoikLH/WtYd99qEiNJHMshVBKa5PPvRqQKBQ70982bRVsaCBDWDYayGSpCoTn55JFslmdXr7kudcg7DekO+r7lXrLo9BgBbMi/SJ0w+VTH5/hYx3pytkNA0wjqNyjLVMp8c64JR8g5DywL6rUFR9/JWC7sdwCEEPOGMbuWu6imk0TiuTONozRDm/Xx5GiKi0c7ySSzCAS5TJ5v/T/fYeOuDh7/pYeIls3vGCiEoLRq7ubv3YS+dApPynmVHwCxQAApJX3p5DSp4wSGsxnKgyHurV+6kIhbBV+d8lV/vF6tn/IbHdQQeGlk5muY0d8jEFwaaaYQBtJ8APKvXPWaUw/MBiERxj1L8pp3ApY59rsApTWleN78Tn9SSpDMmsW6ens7+Uxh2mPjwwmOvXEKq2ATjoUwggaxyhIaVtdx4fBl/vG/fG+yCbsMPzVrUf5/QuHB5hVsrK6lL5WkP5ViLJdlMJ2mJ5WgMhjit7bfS8S4NePySwlpHy8GacxBqygRwPE9X5YQwnioGAAyON1aAXx/dq/fd5W8RUNEtwOWV+x3AVo3NmMEDay8hRGYvSBkkznK60qpbZ0poVu5pQUzbJJN5giVBPE8j7P7L2IGDXRDR0pJPpOnfUsLqqpS2VDOcM8or3/nbd73a0/c7Ld3RyBqmIzmsoxms34QnGFQG4kSuopqcKTHilgpW2rrGEinOTLYz2g2R9gw2FRTQ0tp2R1JwQBg7fbpl/kgyqHwFtJ8esmmhoUS9p0hc98F+yrvQRGE4HMIY8eSvNadguXCfhfAMHUe++SD/Phvfk5VU+WMYIp8tkAqnubjv/6hWf+YjIDBR77wPv7pT39IPlvA81xsyyYSC+NYDrlMnsqGimnN2fLaUk6+dZZdz90/r6XuuwFdiXH+7vBBBtIZLM8hqOkMZtJciI/RVBJjdUUlihAUXAdDVVlX5WfN1kWj1EUXNlubirRlcWFslLzjENR1VpVX3DhPvVTwEkVOfR4IA7w8vuvj0t2VCCWKCP8K0h0F9xJS2gglBtrKW2YWdjthubDfJdi0qwPXcXnlH9/Ecz3MYnC1lbPQAzof+Z1n5o3oa1rTwGf+48fY/cN9vP6dPVg5i7QQGKZO26YV1LZOl0KqmuqbWPWOvasL+0A6xV/v30tA09nR0MDe3h5UIQgaJp6UdCbGkUjaysoZTKd5rmPDrFruhWC5Li+eO8NbPd14RVoNAZpQ2NXSwnvaVqJeR6jLkkKEi03Med7fRKLSTSo9Qq0AteK6JljvJiwX9rsEQgi2PrGJtTtWcWbfefrODyAUwYqORlbe04oZXFg3Xt1cxYd/+xmMgMGhl49TXltKMBKcUwYpBFeyKN+leOmir40uMf3zu62+gWODA6QKeRShoArBmZERwrrOcx0bue86hnAcz+Nbx45wbGiQukh0WoPWdl1eunCeZCHPcx0b31kax9gJ+ReAeaxr5Sjo9yLEcnvvZmK5sN9lCEWD3PP4Ru55fON176NlQzMn3jwz50rcytsM94zQf3GIgy8dJZvK0755xSS/L6XkcmKcU8NDZG2bilCITdW1VITmXtnHczkO9vdxfHgQ15M0x2LsbGiisWSmcuR2QbJQ4NjgINXhK4WsLBDkoeYWxnJZxnI5PCmxPZfHWtq5v+n67KpPjwxzdHCAppLYVedCknNskoUCf3v4IEcHBnmoeQXb6xuoCt96X3BhbEEWXgIvBcosFJPMgfQQ5n23/NjebVgu7MuYgfbNK9BNbUYzVkpJ34VBOk92k88UKK2J0XWqj/OHLmMEdT7wW08TW1nF3x85RG8qiaoo6Iri0whnz3JfUxMfXL0W/SpL4729PXzn5AkkUGIaKEJwoL+Pt3u6dJG61wAAIABJREFU2V7fwL9Zt37GNrcDkoU8CGZQIIoQVIbCVIb84jqezzGamyWgYZF49fIlSkxzWlGXUnJqZJieZAJVUVAQXB6P40qPVy5f5P2r1/Jw84prvih6UlJwHDRFueZzLpQohD/nSx7dNCgVPqcuHX+lLj0IfermR9ktY7mwL2MmzKDJU7/8CD/663+lorYMszj+339piEvHOlE1lVBJkLU7VhIqTqHm0nm+9ec/Iv3BFrSoSUN0+krbk5Ld3Z3Yrssn1l9xhTw1PMS3jx+jJhLGVK98HUO6gScl+/p6MVWNj6y7PSLHpkIVCovJM3A9ed0Xpgmevv4qA63zY6N0JxN+wUfgeh5p26I2EsV2Xb5/+iQRw2Br3Rza7quQLBQmow1zto0EOqqqeLi5hfay8kVfIITWAtEv+pLGwlt+o1RooO9AmDuXi/otwnJhX8asWP/AWoSi8NI3fkF8OIF0Jaf3nEM3NYKRAKu2tU0WdfAnXIf1LN1neti1ayNc1b5ShKAhGmN/Xy8PNq2gKRZDSsmL585SGghMK+pTt6mPRHmrp4vHWlspDdxek6tV4TBhwyBn2/MqU/KOzYYldGq0XIfOxDhRw5yRjgWgqyqVoRAvnjvL5ppaFCHoT6c4NTxMxrYoCwZZX1U96Tg5lEnzpQP7SBYKVAZDlAWCeFJycSzO8aFB3rtyFU+2rlx8cVfKEYH3Is2n8dUv+m1Lp92tWC7sy5gTHfetZtXWVjpP9HDo5WOMDYzTvK6BSFl4RkFxkfSXAuM5MsncrPy8IgS6qrKnt5umWIy+dIqBTHrGanQqVEVBAkcHB9m1omVp3+ANQlMUHmtp4/unT87Cf/tIWQXChsHayuvLvlWEoCVWynA2M3lhG85mZwRSFFxnslCDf8fTm0pwcmSYt7q7ODvqe/ZoioLtefzwzCl2NDTy7Kq1fO3QQSzXpWGKx40iBBWhEDEvwI/PnaMuUsKG6msLOfHPx7tPang7YLmwL2NOeFLSmU5yNJDlWJVDYlMpbkkAZhlyLQgPR0g0FArZwpyN14hu0JP0E+jTloUyh8fNVOiKytgNcNQ3E/c3NnE+PsrxwUGqQuHJlbsnpT+sJD2e377jhux3H2lp5W8PHyRmBhBCkHfsaUVdSonjeTTHpk9WelLyzaOHEYhZqbE9PT1ciscZzqRpis0+lakpCjEzwM8vXWB91ewxicu4/bBc2JcxK0azWb5+5CD96TS6ojDiFugNuQwGE9Q6BtsKYYwpjhRKcQUv8eZPfZJystmoK4vkqKV7+wzhXAVdVfnMxi3sLu3i1c5LjKdzgEBKyfqqGp5qb78+O9opWFdZxabqGo4NDVIbiaIp6qRP4QS33hgtoSwQmLbdSCaLoamsr5q50vapsRJe775MY3R+P58S06QnmSSez027K1jG7Yvlwr6MGUhbFl86sI+sbU3engdqJPGzg4RdhQHVYq8peaAQnSzophSEXYWUKgjPk56Usgo8tMJ3h2wsiRHQtHkDJaSUeJ5k3SKpDMfzOD82yts93YxmswR1nW119WysqZ0x3r9U0FWVR1paebB5BYOZNK7nURoIUGIGFt54EVAVhV/auJmfnD/Hm8UGdMaykMWLZHtZOW1XNTgt12Eom5k3vEIIAR4MZzK0lc1tyiWEQBECy3WX5P0s4+ZjubAvYwb29fUwlsvSWHJlJVdSHiFcEsLKWsTCBsOazbBjU+P6HKpAUN1r4ayPzRqbB1BwHBQh2FrrKzUMVeXRFa28cP4sjdHZ9eojuSzNpaU0lSzsEpksFPi7wwfpSowT1HSCuk7atvjOqRO8eP4sn9uylZab6PutKco0nvpqFByHk8NDvN3TTaJQoMQ02NHQxIbq6gWnUXVV5QNr1vJ4axvn42N899RxBlIZVlWUoynTFTdSSvpSKcoWcXEpDQboT6XmfY4nJZ6UhPRlvvxOwQ2NfwkhnhNCnBBCeEKI7QtvsYzbHZ6U/KLzMhUzbrkFq7e3gYBcMo/mwgUtD4BtOQxcHmJDRRVP37uR7mSCvONMbimlJJHPM5TN8FzHBmJTKINdLa1srqmlO5kgVShMUjMFx6E3lSRiGHx645YFuV3H8/i7wwfpSyVpLIlREQoR0nViZoD6aAmaUPjygX0MZ98ZR8qhTJo/e+sNvnXsCEOZDCAZzmb5nyeO8ae731iwuE4gbBhsrqnl9+9/mNWVFQyk0+RsG/DPc6pQoDuZYH1VNXWRkgWprupwBE8y7/PiuRxrKysnp2uXcfvjRlfsx4GPAl9agmNZxm2AguOQtqxZV56haIhNuzroPt1Lf98og6LAUL+FpqvseGYrO5/dih40eL3zMq91XmIsl0UAHpLGaIxPbtjImqsoFU1R+NTGzXRUVfPq5Yv0p1MIAaaq83T7SnY2NBFdREE5NzZKV3J8Tr44appkbIs3uzr58Npr08RnLIusY2Oq6nXRKxnL4ssH9lNwHRqm3HkENP/CE8/l+MrBfXzxvgcX9V7Bfz+f376TfX29vNZ5if5UEg+oCUd436rVbKmt46/372VkippmNkhgdUU5F+JjaMWeR0g3qAiF0BSFvGOTc2yeaL07M2rvVtxQYZdSngKWO+V3EXx5oURKOevnGggHWLWtnZq1tdg5h091bKWivmzahOpjrW081LyCvlQK23OJGAY14cic3xNVUdhe38C2unpSRe44bBgLhlZMxdvd3QQXoDMqQyH29vbwzKo1GIsYGOpNJnnl8kWODg4ihERKWFFaxuOtbaytqFz09/7I4ACJQn5OmqYsGKQvleRQfx+7WloXtU+AoK6za0ULDzY1k7VthBCE9Sua8UdbWvnaoQOUmIFJFc3EylwIge26ZC2LimCY/f29pC0LXVVQhYIiBDWRKDWhEL+8+Z6bSmEtY+lxyzh2IcTzwPMAzc3X55mxjJsPQ1VZXV5JTzIxrwIi7bk8sW4ldW2za5t1VWVF6bUFGwghrvt2fziXWbCwa4qK60nyjr1gYT89PMTXDh9EV1RqwmH/giclw5k0Xzmwj/evWsNjrW2LKu5vdHVSusBKvywQ5BddnddU2CegKsqsK/2Oqmp2NDSyt6+XgKoxnEnTn07hAZoQBDWNkGFQGgzwWEsb8XyOzsS435jFH6x6tLWNTTXL06J3GhYs7EKIl4DZPtn/U0r5g8W+kJTyy8CXAbZv3/7utgS8zfFISytf2r+XmBmY1Qq2UOTPt9U13OpDmxMhTWPMzs/7HE9KPCT6Vc3GZD7Py5cvMpBOEdA01lfV8N3TJykNBKcpaYQQlAaCRAyTF86fZUVpKe3lFQseWzyfo3IBmWBA0+hLp+a8U7oeKELwXMcGRnNZvnfqJFLKSfWREIJEoUCyUGBVeSWqokzztwHfKvjVy5d4qLnluhOdRrJZDg/00ZtKoisq66uqWVtZdUO6/mUsjAXPrpTyyVtxIMt45zCSzXKgv5dD/f3YnktNOMLq8kpOjw5TGQoRMfzVoJSSRCFPslDglzZupnIet8Zbje31DXzn1Ml5V/zxfI41FZWTmnjX8/jKwf189/QJLMct2hALco6Npii8p30lMPMuQFMUQprOa52XF1XYA5qG43nz+qU7noepaktOa16Mx7kYH+OptnayjoPreeiqSkBTeb2zEwQcHujjvsbmGZa/hqriScmxwYFrdqZ0PY9/OXeGN7ouIxAENR1PSg4N9BPWdX558z3zSiyXcWNYNkV+l+NAXy9/svsX/PziBTwpMRSVnmSSc/HRohcJfjZnOklfOkVVOMLn793J9vrbZ7UOsLG6lqCmkbIKs/7e8Vyyts0jK3yqQ0rJf3v7Tb517AhhzY+xqwlHqYlEUIQgbRX46YXzpOfYX1kwyOmR4cm7l/mwo76RsXxu3ueM5rLsaFj6c/rzSxeI6CamplMWCFIZChHWdVJ5n26J6CYZ255zstdUNToT49f8ui+cO8NrnZepDUepj5ZQFgxSEQrREC1BVXyFUm8qeYPvbhlz4Ybuh4QQHwH+AqgCXhBCHJZSPr0kR7aMm44LY6N86/hRqkPhabfGpqZRFgjQn0nTHInxa/dsx/JcQrpxW63SpyJsGHx2y1a+cnA/GcumMhT0JzSlJJ7PkbEtnl21hlUV/gr7zOgIL547S3U4PEMHDhDUdLK2xaGBPh5unsl7K0IgKa60Fzi2exsaea3z0pxmYXnHwUOys+HaQzjmQsFxOD0yxMH+PmrCYYYyaUayWYYyaSzXxfY84rksXliiKYK+VGoaDTMBibzm8I7RbJbXOztpiERnvUuJGiZ5x+FnF87z2S1br/s9LmNu3Kgq5nvA95boWJaxBPCKviG6osx6W5/I5zk00M/RoQHe7u4GJCWGiampTHVkFEJQF45wdmQUu32mD8nU1+tMjJPI51EVheaS2DSd+o0ikc9zZKCf3nQKQ1FYW1nF6orKWW1w28rK+eJ9D/BGVyf7+npxpYeUsKq8gsda2iaLOsD3Tp/0o+VmKeq6qvrTsKpGdzJJ3rFnDBAVXIeAphFYBFdcGQrxmU338PWjB0laBSqCvpTQ9TxG81kc1+NTGzdTE1kgL3QRcDyPVy9f5LXOy4xmsxwZ6MfyXBzXBSEwVBVDUSkNBhFCMJxJ+9TSHMNHBcdh1SLopqk4PNCPUGb61E9FRTDEyeEhxvO52861827AcgfjLsFAOsXu7i729vXgepKApvFAYzM7Ghonk4sO9/fx7ZPHcD2fchnNZdAVlb293dRGonRUV6NOiSwTQqCpgoP9fTTFYtiuy1A2Mzky35NM8oMzpxjL5RBMxnCypbaWD6xeN68meziT4fTIMBfjYwxlMpQETJpKYmypraMuEkUCP7twnp9fuoAEAqqGJyVv9XRTYppzSvCqwxE+um49z65aQ95x0FV1ViuBk8NDBGexCgaImSb9to2hKBQch4xlzSjso9ksT7S2LTpndH11Nb+307/oHOzvwys2Se+prePh5hYaSm7MTwauROgdGRygKhTkYj6P5boIwJUSpETRfB5/JOt/9o7nYXlekYqZ+AR9ZG0bU9fouEbL4f50isAc53YCE+ZviXxhubDfBCwX9rsARwcH+Maxw6goVIZCaIo6qWh4o7uTX9+6Hdfz+IdjR6gKhQloGslCHl1Ri41RSX86haKIGYZRpqoxks3w8qUL/KLzMjnbQQi/MI/mc6yrqJymz3Y9jyODg/SlUvy77TsJX6WmyFgW/+vkcQ709XE+PkrecRD4f+jV4Qg/PneWiGkykErRmRinLBhkRayUaMiclCimCgW+dGAvX9hx/5wGW6amzau8KPZJZ0VQ0wloKnm7yJ9fdeczns8R1HV2XmN+aX20hI+v38iH13ZM+uMsRk+/WBwe6OfwQD9NJTH60ynG8jmipslINouq+K4+WdsmZqoYqkrBcdFVBduWeJ5HyrKIGn4IesryFTO/umXbNStYDFX1LyQLQcprmlVYxuKxfFbvcPSnUnzj2GHKA0FqIpFJasFQVeqiUQKqxlcP7uf7p08SNYxJ6kAVvs+5P7AiiJomfckUWduatv+c7XB4sJ8Xzp0hoOnURaNUBEMMZjIUHIfjw0Mk8ldkhqqiUBeJMphJ8+rlS9P2VXAc/ubgfo4O9tObSmCoKjXhCNXhCBXBEAPpFAf7+9jd3cmJ4SHKA0GQcGZkhLd6uiYbo1HTRBEKPzl/7rrPW0dVzZyNTyEEtVP4YctxSVkF4rkcvckEmqLwm9vuve6VpqGqRE1zSYu6lJJXL1+iLBBECLg0Hvd16pruf8YSJlbj/ipeTPqzlwaDeBLOjg7Tl0rSl0oR1HWe33YvHdXXHhCyvqp6waZy3vH7DdXvQDbruwHLK/Y7HG/1dKEg5jSRipomQ/EMXYkE99TWTT4e0nXCuo7lub7MDoEQMJBOT5Oh9SYTBA2DttIr7oGDmTQSScwMUHAdjgz281DzCpQpNE5VKMLuni6ebGufXPEd7O+jK5nA8SQF1yVqXKFqHOmRtixc6RHTTCzPb/AFdR1dVck7Ngf7+3igqRldUakIhjg9Mkw8l6MseO0F9sNr1/HSxfNYjoMxy4rUP6cqT7W1s66qmrFcjlDRKXJdVfWSFuWlQNqyGMqkqYtEsVxfARQ1TBzNw9Q0bM8FKREwmWnqSQ9PKjzdvpLhTJaVFeU82LSCskCQ6nCY0yPD/PPJ4zieR1NJjE01tYuyPFhdUUksECBZyM9qwSClZDib4dlVa27LLNu7AcuF/Q6GJyV7+3oWVKoENY3z2cy0ZqoQgrbSco4MDaArKooQqEIhWzSUAt+4KmlbrK+umbbtWC6HVizipurTOqPZLFXhK80/Q/X525FsloYS34zqlcuXKDUD7O/vnTElmiz4q3FNUUhZFqpQSBTykyqSgKaTsgoMptM0lsQmOdp4/voK+5qKSj64Zi3fPXWSEjNASNeYWNG6nsdILkNdtIQv3vcg5bepEmgqJLJ4cRZMJUEUoWCoKkFNo+C6WK7jT54qCjHTpMQMENB0FEWwsbqWTTW1nB8b5T+/8RpZ28JQNRT8cPEfnT3Ne1eu4pEVrfPq7XVV5Vc238Nf799L3klTEQxN3v3kbJuRXIaOymoebm65qefk3Yzlwn4Hw3ZdXFfOquyYCrNYZK9GTSRCm1XGpfE4mqLiFdU0OdtmNJdFUxVaS8sWDLnQFIWhbGZaYYcij10sM3nHIZ7PURUK43reVYVdFjl/nx6yHBtNVbCv8v82VZXuZGLSTlgWX/t6IITg8/feR4lp8s+nTjCQTk/+ThGCbXX1/MFDj94RRR38KLygrpF3HExVLV5YXUxVnWLupaOrChHDpCoUJmMXKA8FcYvfjQ3V1XSOj/Plg/uIGQHKrjJUs12XH545jUDwyALWB82xUn535wO8dPE8RwcHQYCUEDZ0Prh6nX/ntbxav2lYLux3MAxVxdT8Rul81ICmqERmCV0WQrCyvILyYIiuxPjkIIrluTy7eg01oQhfP3poxv5ipsnglEIohMD1pjfLJi4kE34zE1roCfXM1NF53zYWhOInD2mqOutovVZUqYAvNzSLHP31QlMUPrtlG891bGR3dxdDmTQBXWdnfSONsYX9328naIrCruYWXjx/lsaSGC2xUs6MjlBiBigLBBnKphFS4ElJiek3SF1PUh8poS+d4sGmZmJmgG8cPUJQ1Wc0vcFfiddFovz4/DnubWhcMLikJhLhU5u28IFCgWQhP9kgX26Y3nwsF/Y7GEIIHmhq5rXOS9RF5pbL+cM5qzk5PDxJY0zdR0UoBELSUV3NF3bc59+aC0Ein/cTjK4KTq6NRjk3NopbHJN3PI/oVYVgOJNhZ+OVP35DVWmIlpAo5CkNBKZJCBXhC08mBn5ipkk8n5txsXI9iaFqSCkZymR4T/vKJfEcCRsGT7WvvOH9vNPY2djEvr5ehjJp6qNR+tIp0laBiKHjeCEGs2nCug7Foa2KUJikVWBjVQ0tpWX89MI5Dg/0sbq8cs7X0FUVV7qcGBrk3obGRR1XiWkue7nfYixfOu9w7GxoQhXKnKP0Y7kcJabJJ9ZvYkdDIz3JBMmpgRauQ18qiaFq/Oo92wjpxmQRjwUCrK+qZjQ7fdzcVDVWl1eStq1JuqQ2GgUmGmNpoqbB461tk9sIIXispZVEPs+KWCkF18WblMQJooaJ7TpIfMqgIhjC1DQytjV5rHnXoTYcpieVpL2sjEdXXLsT4t2MsGHwW9t30FBSwmAmQ32kBENTGcxmsDyHtlgZDdEYBdelpbSM97WvZENVNadGhvnH40f5zqmTXIjHeb27k/Njo1M+n+nQFZWBTHrW3y3j9sDyiv0OR0UoxG9su5evHtxPqlAgZgYwVJW865As5ImZAX5j671ETZOPr9/ImopKXikGWiD8Iv1EWzv3NzbNqmB4qn0lp0eHSRUK0xQRTbEYEsmRoQGqQ2HGcjmk9C8AbWXlfGL9xhlywA3VNWyprePwQD8N0RJ6U0mCmo5RHCIayWQoCQRwPI97auuJGAYX4mMMZzPYrusXfcPgsdY2Hl3R+q5yCPSkZDTnT6lGTXNOt8VYIMDnt++kL5Xi1MjQ5NyBoagoiu9OubayiqCm8c1jRzgxNEhtUSYb1DT6UkkCqsaF+BgFx6GjqnoGJeZKib5Mp9zWEItJiV9qbN++Xe7fv/+Wv+7djGShwKH+Pvb09pC1LUpMkwebVswa4iylnJQWhnVjwSbW5fE4Xz9yiLRVwFQ1VKGQd208Dx5oaqK9rJx4sfnZUlpGXSQ6p2rCdl1evnSR1zovMZBO0Z9KkXddDFWhxAxgOX7KUEtpGbqiUHBdBtIpJPBvN2zkntr6d11B39/Xw8uXLzGWzU6e1801NTze2k5tJHpd+z05PMRXDx2YljVrey6vXb5MSPflrymrwLb6hhkxiT2pBP9u245FOVsuY2khhDggpVwwhnS5sN9lkFLiSolalAMuFSzX5czIMCeGh7A9l/pICffU1c0bxjEfCo7D5cQ4OdvGch2qQmFKzACelOzp7ebtnh7yjk3UNHmoaQXb6xuW1IPmToAnJf904hh7e3soD4YmV+mu5zGayyKRPL9tB60LpBsNptPs7e3hxPAQrvQ16d2JBAXXmfH5nR4ZpjuZIGqYZG2b8mCQLVPmHyambv/3Bx6+ZnOwZdw4lgv7uwzxXI69vd282d1FzrExVI2dDY3c19hE9Q0oR95JXN20vRMxcQErOA4hXaeltGzRqpB9vT384/GjMxreE0hZBVzP4z889MisdzFSSl7v6uRHZ0+hCIXSYkReopBnd08XLbFSNtbUTvMHsj2XA329JAsWQV3Ddj0eb23ztf3ZLKoi+Py9O+e0cljGzcViC/u75572Lsbl8Th/c3A/tudSHgxRHgxhuy67u7vY3d3Fv+nYQN622d3TRbKQJ6wb3NfQxNb6+tvagOmdKuqu53E+Psbb3V0MZjOYqsq2ugY21dQQz+XZ29dNfyqFoWpsrvGHesKGQd62eaOrkyNDA0VrXJdUvoAQYlLmGdJ1nm5fxX2NTfPeUXlS8vLli5QHQ3Oeh6hh0ptMcHJ4iHvq6mf8/tjQIN8/fZK6SHQa3ValhglrBoPpNIY6TMcUfyBdUdle38DFeJyuxDh5x/Hj9KRkc00t72lfeccuFN5NWF6x3+FIFgr8ye7XMRR11nHv4WyafX29rC6vpC4S9cfLXZexopzw1+7ZtpxkMwUZy+LrRw5yMR4nqOmEdB3H84jnc3QlxikLBKmKhAlpBm7RBkFXFNZVVvG90ycnnS5TtkXedghoKhura9lYU4siBHnHZiib4anWlbx35ao5i/tINssfv/mLBVfGY7kcbWVlM3zNPSn5492v47jerI3W/X09pKwCjid5qHnFrHmxg5kUlcEwH+1YT0UwOGtzfRm3FotdsS+3tu9wHO7vo+A4sxZ123U5MTwM0lcyhA0DTVEI6joN0RKCmsZXDx6YIWe8XWC5Lr2pJL3JJBnLWniDG4QnJX9/5BCdiXEaoiVUhEIEdZ2oaTCez5EsFOhLpwiqOhHDIGYGaIiWEM9l+bO33iRZKFAbiRA1/eSp0kAAVVE5PDjAkYF+pJQENJ36SAkvXbpAT3LuBCHHcxfVI9EUQcFxZzzel0oyls3OqZ5ZESvDcj1/JiA9U7roSYnlenxgzVpaS8uWi/odhmUq5g7HW73dlM7RVBzIpLFdh5gZoDeZYHV5xbRiETFMUpbFnt4enlm1+lYd8oLIOza/6LzM612dWI47aRF+b30Dj7e2XXfDdiFcHo9zYXyMhkjJtPOUsiwGM2nKg0Eyls2l8Tibavx8d9t1OTUygkAWp20F4/n8JG+tKwpIyZnREdrLyykxA2iKgqEq7OntpmmOCdeoYfoX5AWyUrO2Te0sAR1py5r3wlARClETjtCVGCd91UXT8Vz6Uil2NDSycln5ckfihlbsQog/EUKcFkIcFUJ8Twgxe8zOMm4aMpaFPodXTHciganqqIqCW5wgvRoVwRC7u7t4Jyi52ZCzbb58YD//euE8Ed2gLhqlLhKlKhRmf18v/33v2wxnMvPuI21ZnB8b5dzoKOMLZI1Oxb7eHgzlSqC0P3bv0ZdMIlAAQVDXJ+PlwHe6TFkFgrpO1rZxPJd8MQx7ApqiYLkul+LxycdKzSCnRobnPJawYXBPXR0jc2SRThyf43lsnyUr1dS0eT9TRQg2VtdQE46Qdx16U0l6kgl6kglGsjme/P/bu/PgOM/7sOPf53333sXiWtwHQQokIYqHeIqkLEuKbI2uyomj2uMrTuIp6xm3ORxPGlXT5I9OZ9pm0rSOk3rq9HBjx7WnSarGnjqW41vWRVGkSIaieAPEfe697/n0j3cBAsQuABIUdgk8nxnOCMRq99mXwG+f93l+z++3pZfnduy86zevN6rVzthfAp6XUtpCiH8HPA/8i9UPS1mp2lCIvGWXzEWfrafiuC66ECV/SQO6juHYXju9KijK9N2LFxYU+prl0zRaYzVM5nP8xdsn+e3DRxfNSFNGgb+7eIE3h4dwASG9EmT3NbXw1NZtNC1T+3s8lyNcbEIykEzObRqmjAIB3WuDNxuwrWJ9nul8Hikplix2sF2Xm8OpEAJdiAVBWghR9mTnrEd7tvD26Oiiw2HgBfXBdIq9rW00FdvMvXZ9gOlCgVgwwP7Wdu+gmm2Xbd+nCUFnbZxj+w+RM03ytk3Y72drQ+OydWCU6rbanqffm/flq8BzqxuOcquOdnbz1+/8Q8m11ICu47gSw7HZVFtX8tZ8NkDdbmEmKSUDqSQDySS269IcjdLb0HhbHxJZ0+S1wQFalgjADaEwg+kU/ckkm+pu3CAmCwX+7PhrTOe9TeHhTNorBSwlI5k0Z8dH+fyRB5c80BPx+zk9OsL1dApNiLnyClnTZKZQIGfZtMViSLyGIhJJ3vZm6aYjcCXoxb6ijnQXpBHuh+YbAAAZuklEQVRKvJo4s1JGYdleoi2xGP90/0H++8k3uZ5OEfH50DWNvGXjSIe9rW08tvke/tPrrzCayRDxBwjqOimjwIXJSTKGwVQ+T29DY8kP9bFcht76RnrrG+7omQel8u7kGvuvA9+8g8+nrMDullZeunKpZMOJzpo4Z8dHCfr8dMRLr+VO5nMc7eq+rV/skUyab5x5m6F0yqvOKLzqjLFAgF/q28GeeQdbliOlpD+VxJFLlyEWQqBpgotTkwsC+/89/w7T+TwTuRwjmTS6phHUdSRe5shQOs2/f/kn/NHjT5V9r62xGO9MTtAciS5Y164NhcjZFhKXwXSKzfUNZIwCx4cmmMznsBwXyzURCCbzOWoCQSbzOXRdIIv1ah3pzhVqk1KSt20e7N607HXZVFfH8+97mHPjY7w9NophO7TEouxv76AhFOKLr79KyjAW3eHUhcJM6FmuzsxwZWaaxnCY2mAIIQQ5y2Qqn6e1poaP7dqjgvo6tGxgF0J8H2gt8a0XpJQvFh/zAmADX1/ieY4BxwC6u7tva7DKYtFAgH+y9wBfees4g+kktcEwIZ/PWwMWXiDc3pgoeWs921Tj8C327gSveuOfHX8NKaH9ps3GvGXx1VMn+aSU7CuRXz1LSsnFqSl+2n+V85MTTOVzDKVSaHhNqcttGmoITPdGJsh0Ps/psRGm8nlGMuliJcEb4/EHdEI+H28OD/PS5Us8XqaS4/VUkojfh3XThmXY7/fq1UsX03HQpOTEyDAhn4+mSIxUwSBjmsSDAfK2XVxr91IhNSFwXUk44Kc5GvPW7DMpdje3YjoOf3n6FDnLojEcZl9bB921tYsCbdDn4/62du6/6VoeHxpkPJtdFNRnJSJRDNtmZ3MLGdPk6swMCKgNhvilvh3sa2tftta+cndadR67EOLTwGeBx+RsFahlqDz2Oy9rmpwaHeHnA/0kC3kigQBHOrtpikT4xpm3MV2HxlCEgK5jFY+kC+BX9+yl7xa70AN89eQJzk9N0BwpfVilYFukTZPff/+jJU9FulLy4vlz/PTaVaL+APXhMBnT4Gf9V9E1nYaQd5S91JLOYDrJR+/bzYF2b9PwzNgoX3nzDS5OTxELBBCUnoFO5XNsTyT44hPPLAqeOcviD37098T8AU6MDHnNQPz+4nKKJGUYjGQyBHQdAbTH4/iEtymaNApM5nO4rrfZakkXn6bhEwKruOZeGwoRDwTZnkhwqL2TwXSa6UKeoK7j17yibbbjsK0xwcd37SlZD/1mf/zqy2QMc8l2dfnihu6/evgXMGyvemZQ96lZ+l1qTU6eCiGewNssfXilQV15b0QDAY52dXO0a/Hd0BeOvo83Bgd5eeAa47ksIZ+fh7o38UBnF02RW28mPJ3Pc3Z8bMn16pDPz2QuV/ZU5MsD1/jptat01MTnZsfxYJD6cATDtkkaBc6Oj7G1oZHRbAbDtgnoOvXhMBoaO+Z9GDnF+uJA2aAOXurhdMFblumIxxnPZjk+NMiFqQnylsVgKsXO5mYOd3YxkPQyRJzixKcxEuG+pmYuT09zecarfFgAYn4/3fE6NCG8cRbvJAzHwSy+Zn0wRGushvpwmKg/wKWZaaSUdMw7fFSLdwdzYXqS/3nqLY7tP7hkmiPAVC5H7TInh0M+H4OZHI7rbqjiaRvdav+lvwQEgZeKM4BXpZSfXfWolDuqLhTmg/f08sF7epfNi16J8WL/1OVS4fzFVnY3B3bbdfnBlcs03bSWDd6y0fGhQYK6zvnJCYbSKfy6ji4EtuuSG7N4oKNzQau/xnAYw7GXCOk3RHwB0qbB31++xHcvvYsmNGoCAWzXZSSTZqaQo7chwbbGRnobGrxlGSHm1v2HMxk219ZzoKMTTQgmcznOjI9SHwpjOw5IrwPV7F6DJgS1oRCO9GqtpAoG8WCw5P6DEIK2aA2Xpqe4MDVJX6JpyfcS9PmwXWfJjW9HSnxCU2mLG8yqfsOllL1Syi4p5f3FPyqoV7nVBnUozopXsIQnZekZ9EAqScY0S67vNoQj7Gxupj+VZCrvbYSOZTNMFfLY0mV3sbH2fz1xnILt7RF01MRJRGIYzuITmLMs18Gn68SDAc6OjfLtC+dpicZoi9UQCwSpC4XpqatHExoXpibpTybRhEZQ9y3YzLUcm5aaGiJ+r478pelJIj4/QgiSpjGX3+4WSyNnTYv+VJKsaeFKyZXpqUUHghZcW+Hlyv98oH/Z63ugvYPpfGHJx0zmsxxo71BLLxuMKimg3LKWYsqf4y5ukD2f5TpsqV9cUrZgWWV/8EzH4fzkJHZx6SCo+4gU17o1BEGfn9ZYDYPpFCdHhgEvGH5y1x4sx8F07EXPabsuOctic109Evj2hfNkDYOhdJp88cMBoKeuDglzjSYcufD9jeUydNfWzW1EzxQKGLaDX9cp2NZcjXvbdXHxUhwd6eIUa82MZTOYrlMysNuuQ962sFyHqD+woKdsOQfaOxHCW0cvxXBsbEdypFMlK2w0atFNuWXxYJB9be2cHBkuu86eNU1igQDbGhf3zwz7/ZT6SJBS8vboCKOZDGGfH1dKGsLhuQqUjutydnyUkN9HfSjMj65e4YEOr0ri4c4uHunZzCvX+zEcGw0NhNcn1ad5SzxXZqbQikf+Y4EgbibN+clx2mvi9DU2EQ+G2NPcyttjo2Qtk+F0mtZYjJzldaNqiUb51MG9/Mkbr1KwLYzih4jtOgynvWYgXlEB7/DP7PKHKyWmbRMKhTAdh8y8NoZpw+DqzPSCVnPxYJB7VlCYLRGJ8Ind9/MXp94ibZo0hsPomoYrJVP5HHnb5iM7dtIRVyV2NxoV2JXb8mTvNi5NTzGaydAUjc4FMSklKdMga5p8Zu/+klktXfFa4kGvkcP8NMykYTBVyCOlnAtQ87NDdE0joOtcnp7iYHsn19PJuROzQgh++/CDBI/rXJyaAumt8ccDAXy6zqmRYSIBb6PznYmJueeVSAZTKSzHZU9LK82xGEeDQc6MjlCwbVKGQWMkwtPbtrGzqYWgz8dz997H106f8o7sC2/cEu+k69xY5zcMh7mSDrqmzX0gjGUznBodQROCmD/gnQNAMp7NIhC8MtDPkRKb4fPtam7hNx44wo+vXuHU2AjFN8WOpmYe7tm8bBMOZX1SgV25LbWhEJ87+AAvnj/H2bGxub+XSFqjNXxq9/1lywHrmsbj9/TyzTOnaa+Jz23+DadTc6UPTMchHgwuqoMT1H3eKVDTOxA0f1OwNhTiNw4d5Y2hQX587QpZ0ywuh0iaYzF2N7d6M2NxIwALBPFgcG4dvzEcIeL30x6P8/Fde0rm4e9ta0fXNL559jRZy2QmX8CnaV5wB/T5+wryxnvOWRYhnw/HlSTzeU6PjhD2LVzDd1yvAmRfoom/OneWrtrasnnqszrjtXxi9/182LLI2xahYrlhZeNSgV25bXWhMJ/es4+pfI7rqRRSShrCETrj8SU367Kmieu6FGyb7158l6DPR299A2nTxHYcNE3gQyNRIhVztmnFRD7HvYmmRZvB0UCAR3o28/5NPeQtC00I/uT1V7z8diGoD4UBcVN3JoFf1+lPztAYjuC4LkKIkvsDs3a3tLKjqZkvvvYK3zp7moZQGNNxirnis3vLEll8ndm/a4pEifoDnJkYxXAcIv7inUPxNKrtuuxpaSEeDJK3LV4euMZH79u9on+PsN+vDhwpgArsyh0w27VpJYbSKb5y4jgZw6S9poaGcJhrMzOcnRgjYxg0hqMcau/k/OQEzM2Bb5BS4kovT/yhTT1lX0cTgmgxjXEsm53LGQ/5fLRGY4xkM15p3KKgrpMseBkmo7kse1vblu0u5dM0PrN3Pz+8egnblUQDXlMODW/T1JYghEbAp+PXNHSh0RSJ0hWPk7O9ZuAZ68ZGamM4wpb6+rnXbQxHODE8zEd27FJZLcotUYFdWTMZ0+QrJ457h3OKG3qxQHBuZt6fnOHU6AitsRokcH5ygrDPR0C/8WOas0wkLo9t3sL2EhuzNxOwKCj2JZrI2RbJQoGwz4+/WFPGKRY021Rbxy/27VjRe6oNhfhH2/p47fp1XFeSsywsxwUhCGs6Pt0r9+tKSXs8RntNnEOdXZwcGaazpha7WBrYr+uLqjD6NG0uy6YaKm8qdw+V7qismbeGh8gYZtmZcFe8lpDPx7mJcXrq6ri/pRVd00ibBhnTIGkUyDs2n9y1h1/s27GiWayuafQ2NDBduJHv7dd19re1s60xgUSSMQ2m8jnqQiE+tK2PY/sP3NIa9WOb76EuHOKRnh56auupD4UIajouEsNxMGwL07ZJFQqcHhthKJUGIFdscF0TDJYsrVuwLWoCwduuvKlsXGrGrqyZn1/vL9vtCbyZ9cH2Dk4MDzGYTlEfCnOks4u0YTKey2JLlw/37eCDW3pvaWni/Zs28+cn3qAuFJpbV/dpOj119XTX1pGzLMazGX7nyPvorrv1XjH3NDTyzNY+/vbdc/h1jYLtHYYKaX4Ktk3BtvHrGknDIBGJMpJJM5hJMZXP81D3prLVLCfzeZ5coi+qopSjpgLKmkkahbJNH2bVBkNsqW/g2e33AoKhdJqsZXK4s4vfPfrQLQd1gO2NCQ53dnM9laRgLzzAVLBtpvI5nt62vWybupV4dPMWnt7ah+k4NEUj1AQDGLaN5TrUBAN01MTZ2tBI3raRAu5LNGM6Nq8NXi/Z6Wg6nycaCHCgvfO2x6RsXGrGrqyZiM+P6TiEl1hasFyXmmCQh7p7eKi7x9uMXEFdmqVoQvDhvh00R6L88OplpvI5KNaOrw2G+NjO3Ss+du8UT7HqmkbYt7BK4vVUit0trdQGQ9iuw6nREQq2s+DDLKi7XJuZpqm9k4e6e/hp/zUuTE2SiEQI6j4s1yFjWdSHQnxm7/5iCWJFuTUqsCtr5nBnF9+7fGnJlLzJfI6H5jWguFPry7qm8XDPZo52dTNQnLlH/H664rUrqp+TMU1evz7AT/qvkrMsJF6Nmkd7NrOrpRVNCC5OTVAXCuHTdCzXIWWa1PgXlt8N+XxMFwpIJBF/gJ3NzWxrTOATGtOFAk3BKA+0d9KXaFLVGJXbpn5ylDWzv62DH1y5TNY0S9Ybz1kWAnig49Ybf6yUX9fLHpwqZzqf58tvvs5kLkciEqEuFEZKSdIo8D9OvcUDHZ384x07F/w/puOUzMi5WdjnJ+IL8Inde271rShKWWqNXVkz9eEwv3b/PjKWyXAmjVWshGg5DiOZNCmjwK/s2bts0+m1JKXka6dPkjFMOuO1hHze3YYQgtpgiK54La8PDfLyQD/3NDSSLHh1YOb3O52vYNvUhUJzVS8txyUaUIeKlDtLBXZlTW1tTPD5Iw/yUPcmZowCQ+kU04U8hzu7+PyRBxc00KgG/ckk/TMzJCKlD2BpQtAcifCDq5c53NHlHTwq1mKfa1E4x0t/3FR7I/PGch12t5TqPKkot08txShrrikS5ZltfTy9dTum45W9rdZGEP8wPoauaUsuqYR8fqbyeYJ+HwfbO3hjaJC2WIwtdQ2cGR/FX6wjkzENWqKxua5VE7ks7TVxelShLuUOU4FdqRghRNVvEOYsc0Wbq0IIbMfluR07iQdD/OTaVVzpEvMHGM1m8OsaW+oa2JZIYDg2k7k89eEwn96zt2o/1JS7V3X/VilKhTVEIlhu+c5MMFu/xlsr92kaT23dxiM9m7kwNUnONBnJZuhPznA9lWI0kyHi9/Pk1q0c6ugiNm8T2ZWSa8kZUoZBQNPorq1bUVNrRbnZaptZ/2vgQ3j9BcaAX5VSDt2JgSlKNdjV3Mp33j1/UzXIhdKmSVushrZ5TUcifj97blo7N4rVG8N+/6LnOjUyzHcunGe6UGD2WxpeA5Ene7dV/Z2NUl1Wu3n6h1LK3VLK+4FvA79/B8akKFUjEYnwQEcng+lUyROihmOTNPI82btt2dTGoM9HtNjger5XBvr56qm3kNLLjW+PeX8SkSg/67/Gf3vrTQx7ccs/RSlnVdMAKWVq3pdR5toKKMr68aG+HRiOw8mRYQK6Tk0giCslKbOAlPCR+3Zx721m88wU8vyfd87RGqshcFMFR5+m0VET58LUJK8PXl+yTLGizLfq+zshxL8BfgVIAo8u8bhjwDGA7m7VXFe5ewR0nU/s2sOD3Zt4ZaCf6+kUQaFxoKODA20dNJZJhVyJE0NDSOSioD5LCEEiEuVH165wtKt7RRu5iiJK3V4ueIAQ3wdKJdq+IKV8cd7jngdCUso/WO5FDxw4II8fP36rY1WUdec/H3+N8Wxu2ZowQ5kUv/fg+1fc0ERZn4QQb0opDyz3uGVn7FLKD6zwNf8S+A6wbGBXFMXjuJKVJDsKZtvtKcryVnVfJ4TYOu/LZ4F3VjccRdlYttTXL2iPV4ph2wR0n6r0qKzYatfY/60QYjteuuM14LOrH5Ki3DCZyzGazSClpDl249TmenGwvZMfXr2C47pl188n8lke37JVtcdTVmy1WTG/fKcGoijzjeey/O35dzg3MTZXMEsC2xoaeXb7vbTEYpUd4B3SFI3yaM9mXrp8ifZYzYLgLaVkPJclEYlypEslHCgrp049KFVnPJvlT994Fct1aIvF5/K+pZRcTc7wpTde5XMHH6B13oGgu9kTvdsI6jrfv3wZWzpoaLhIQLK1IcFH79u14ISqoixHBXal6vzvc2ewXZemyMJZuRCCpkiUyVyOb509zT8/dGRd9APVhOCxLb0c6drEOxNjTOXzhHw+ehsa182Hl7K2VGBXqspIJs3l6SnaY/Gyj2kIh+lPJhlKp+mIl3/c3Sbi97OvraPSw1DWAXXaQakqQ+k0sHTnISEECBhMp8o+RlE2MhXYlariSgkryOwWUuC47ns/IEW5C6nArlSVRCSCRJYsuLWQrKoWeopSTVRgV6rKpto6miMx0qZR9jEZ06A+HLnlptSKslGowK5UFSEEz+24j4xpkikR3LOmSbJg8Mv37lCdhxSlDBXYlaqzpb6BY/sPIoHBdJLhdJrhdJrBVBJbunxm7z62J5oqPUxFqVoq3VGpSr0NjTz/voe5ODXJ9VQS8JpQbG1M4FOlaxVlSSqwK1XLp2n0JZroU7NzRbklKrAr64LpOKQMAwHUhUKqIYWyoanArtzV0obBywPX+Fl/P5bjIJHEg0Ee6dnCoY7Osp2JFGU9U4FduWtN5/N8+c3Xmc7nSUSic0E8Z1n8zTtnOTM2yq/dv4+gT/2YKxuLul9V7kpSSr5x5m0yhkl7TXzBzDzi99NZU8ul6UleunyxgqNUlMpQgV25Kw1l0lyZniJRppG0EILmSIyfD/STt6w1Hp2iVJYK7Mpd6cLkBIili4X5dR3bdekvpksqykahArtyVyrYNrpY2Y+v5Tjv8WgUpbrckcAuhPiCEEIKIRJ34vkUZTmN4QiOXL6642yWjKJsJKsO7EKILuCDQP/qh6MoK3NvUzOa0LDd8rPxtGnQFInSGa9dw5EpSuXdiRn7HwO/i9drWFHWRCwQ4LGeLQyl0yXrshu2zXS+wNNb+1SxMGXDWVWCrxDiWWBQSnlqud6TQohjwDGA7m7VcV1ZvQ/c04vpOvz42hU0oRHzB5BIMqaJJgQf27mL+5qbKz1MRVlzYrmGBkKI7wOtJb71AvAvgcellEkhxFXggJRyYrkXPXDggDx+/PhtDFdRFhvLZjg+NMjVmRk0IehLNLGvrY14MFTpoSnKHSWEeFNKeWC5xy07Y5dSfqDMC+wCNgOzs/VO4IQQ4pCUcuQWx6sot605GuOprdsrPQxFqRq3vRQjpTwNzN3n3sqMXVEURXnvqDx2RVGUdeaOVUeSUvbcqedSFEVRbp+asSuKoqwzy2bFvCcvKsQ4cG2NXi4BqHX/xdR1KU9dm/LUtSltra7LJinlsi3FKhLY15IQ4vhK0oM2GnVdylPXpjx1bUqrtuuilmIURVHWGRXYFUVR1pmNENj/S6UHUKXUdSlPXZvy1LUpraquy7pfY1cURdloNsKMXVEUZUNRgV1RFGWd2VCBXXV6WkgI8YdCiHeEEG8LIf5GCFFX6TFVkhDiCSHEeSHERSHE71V6PNVCCNElhPihEOKcEOKsEOI3Kz2maiKE0IUQbwkhvl3psczaMIFddXoq6SVgp5RyN/Au8HyFx1MxQggd+FPgSWAH8DEhxI7Kjqpq2MDvSCnvBQ4Dn1PXZoHfBM5VehDzbZjAjur0tIiU8ntSSrv45at4pZc3qkPARSnlZSmlCfwv4EMVHlNVkFIOSylPFP87jRfEOio7quoghOgEngb+vNJjmW9DBPb5nZ4qPZYq9uvA/6v0ICqoAxiY9/V1VPBaRAjRA+wFXqvsSKrGf8SbMC7fWX0N3bHqjpW2kk5Pazui6rDUdZFSvlh8zAt4t9tfX8uxVZlSvR3V3d08QogY8FfAb0kpU5UeT6UJIZ4BxqSUbwohHqn0eOZbN4FddXoqrdx1mSWE+DTwDPCY3NiHGq4DXfO+7gSGKjSWqiOE8OMF9a9LKf+60uOpEg8CzwohngJCQFwI8TUp5ScrPK6Nd0BJdXq6QQjxBPAfgIellOOVHk8lCSF8eBvIjwGDwBvAx6WUZys6sCogvBnRV4EpKeVvVXo81ag4Y/+ClPKZSo8FNsgau1LWl4Aa4CUhxEkhxJcrPaBKKW4i/zPg7/A2B7+lgvqcB4FPAb9Q/Dk5WZylKlVqw83YFUVR1js1Y1cURVlnVGBXFEVZZ1RgVxRFWWdUYFcURVlnVGBXFEVZZ1RgVxRFWWdUYFcURVln/j/2KpwRhQnJ6wAAAABJRU5ErkJggg==\n",
      "text/plain": [
       "<Figure size 432x288 with 1 Axes>"
      ]
     },
     "metadata": {},
     "output_type": "display_data"
    }
   ],
   "source": [
    "# Ploting The Data\n",
    "plt.scatter(Y[:,0], Y[:,1], c = y,s = 100, alpha = 0.5)\n",
    "plt.title('Customer_Segment Wine')\n",
    "plt.show()"
   ]
  },
  {
   "cell_type": "markdown",
   "metadata": {},
   "source": [
    "# PCA Using Sklearn"
   ]
  },
  {
   "cell_type": "code",
<<<<<<< HEAD
   "execution_count": 44,
=======
   "execution_count": 24,
>>>>>>> 8447fbbaddb977366686cbac238030c195828031
   "metadata": {},
   "outputs": [
    {
     "data": {
      "text/plain": [
       "array([False, False])"
      ]
     },
     "execution_count": 44,
     "metadata": {},
     "output_type": "execute_result"
    }
   ],
   "source": [
    "# Getting The PCA From sklearn library\n",
    "from sklearn.decomposition import PCA\n",
    "pca = PCA(n_components = 2)\n",
    "New = pca.fit_transform(X)\n",
    "explained_variance = pca.explained_variance_ratio_"
   ]
  },
  {
   "cell_type": "code",
   "execution_count": 25,
   "metadata": {},
   "outputs": [
    {
     "data": {
      "image/png": "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\n",
      "text/plain": [
       "<Figure size 432x288 with 1 Axes>"
      ]
     },
     "metadata": {},
     "output_type": "display_data"
    }
   ],
   "source": [
    "# Ploting The Data For Sklearn Result\n",
    "#from matplotlib.colors import ListedColormap\n",
    "\n",
    "\"\"\"for i, j in enumerate(np.unique(y)):\n",
    "    plt.scatter(New[y == j, 0], New[y == j, 1],\n",
    "                c = ListedColormap(('red', 'green', 'blue'))(i), label = j)\"\"\"\n",
    "plt.scatter(New[:,0], New[:,1], c = y,s = 100, alpha = 0.5)\n",
    "plt.title('Customer_Segment Wine')\n",
    "plt.show()"
   ]
  },
  {
   "cell_type": "markdown",
   "metadata": {},
   "source": [
    "# PCA Purly\n",
    "In This Section We Gonna Implement PCA Using Our Own Algorithm."
   ]
  },
  {
   "cell_type": "code",
   "execution_count": 79,
   "metadata": {},
   "outputs": [],
   "source": [
    "#Matrix multiplication\n",
    "def matmul (A, B):\n",
    "    rows_A = len(A)\n",
    "    cols_A = len(A[0])\n",
    "    rows_B = len(B)\n",
    "    cols_B = len(B[0])\n",
    "\n",
    "    if cols_A != rows_B:\n",
    "        print('Cannot multiply the two matrices. Incorrect dimensions.')\n",
    "        return\n",
    "\n",
    "    C = [[0 for row in range(cols_B)] for col in range(rows_A)]\n",
    "    \n",
    "    for i in range(rows_A):\n",
    "        for j in range(cols_B):\n",
    "            for k in range(cols_A):\n",
    "                C[i][j] += A[i][k] * B[k][j]\n",
    "    return C\n",
    "\n",
    "# simple mean function\n",
    "def mean(a_list):\n",
    "    return sum(a_list)/len(a_list)\n",
    "\n",
    "# calculate the variance of a list\n",
    "def variance(a_list):\n",
    "    mean_value = mean(a_list)\n",
    "    squared = [(x-mean_value)**2 for x in a_list]\n",
    "    return sum(squared) / len(a_list)\n",
    "\n",
    "# calculate standard deviation of a vetor\n",
    "def std(a_list):\n",
    "    return (variance(a_list)**(1/2))\n",
    "\n",
    "# Standardization of a vector x = x - mean(x) / std(x)\n",
    "def stand_vactor(a):\n",
    "    result = []\n",
    "    meanA = mean(a)\n",
    "    stdA = std(a)\n",
    "    for i in a:\n",
    "        result.append((i - meanA)/ stdA)\n",
    "    return result \n",
    "\n",
    "# Standardization of a matrix x = x - mean(x) / std(x)\n",
    "def stand_matrix(a):\n",
    "    zipa= list(zip(*a))\n",
    "    result = []\n",
    "    for i in zipa:\n",
    "        result.append(stand_vactor(i))\n",
    "    return list(map(list,zip(*result)))\n",
    "\n",
    "def determinant(matrix,mul = 1):    \n",
    "    width = len(matrix)\n",
    "    if width == 1:\n",
    "        return mul * matrix[0][0]\n",
    "    else:\n",
    "        sign = -1\n",
    "        sumA = 0\n",
    "        for i in range(width):\n",
    "            m = []\n",
    "            for j in range(1, width):\n",
    "                buff = []\n",
    "                for k in range(width):\n",
    "                    if k != i:\n",
    "                        buff.append(matrix[j][k])\n",
    "                m.append(buff)\n",
    "            sign *= -1\n",
    "            sumA += mul * determinant(m, sign * matrix[0][i])\n",
    "    return sumA\n",
    "\n",
    "# Function to find covariance between two variables. \n",
    "def covariance(arr1, arr2, n): \n",
    "    sum = 0\n",
    "    for i in range(0, n): \n",
    "        sum = (sum + (arr1[i] - mean(arr1, n)) *\n",
    "                      (arr2[i] - mean(arr2, n))) \n",
    "\n",
    "# Calculate the covariance matrix for a dataset\n",
    "def covariance_matrix(matrix):\n",
    "    pass\n",
    "\n",
    "# calculate the eigen value and eigen vetcors of a matrix\n",
    "def eigns_things(matrix):\n",
    "    pass"
   ]
  }
 ],
 "metadata": {
  "kernelspec": {
   "display_name": "Python 3",
   "language": "python",
   "name": "python3"
  },
  "language_info": {
   "codemirror_mode": {
    "name": "ipython",
    "version": 3
   },
   "file_extension": ".py",
   "mimetype": "text/x-python",
   "name": "python",
   "nbconvert_exporter": "python",
   "pygments_lexer": "ipython3",
   "version": "3.6.4"
  }
 },
 "nbformat": 4,
 "nbformat_minor": 2
}
