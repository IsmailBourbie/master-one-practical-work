{
 "cells": [
  {
   "cell_type": "markdown",
   "metadata": {},
   "source": [
    "# Principal Component Analysis \n",
    "\n",
    "PCA is a dimensionality reduction technique; it lets you distill multi-dimensional data down to fewer dimensions, selecting new dimensions that preserve variance in the data as best it can.\n",
    "\n",
    "We Will See How To Implement it in this python notebook with the diffrent way: Using Our Pure Code , With Numpy and With Sklearn library But First Let's Take a Look How PCA Work Under the hood."
   ]
  },
  {
   "cell_type": "markdown",
   "metadata": {},
   "source": [
    "## PCA Approach \n",
    "\n",
    "1. Standardize the data.\n",
    "- Obtain the Eigenvectors and Eigenvalues from the covariance matrix or correlation matrix, or perform Singular Vector   Decomposition.\n",
    "- Sort eigenvalues in descending order and choose the $k$ eigenvectors that correspond to the $k$ largest eigenvalues where $k$ is the number of dimensions of the new feature subspace $(k≤d)$.\n",
    "- Construct the projection matrix $W$ from the selected $k$ eigenvectors.\n",
    "- Transform the original dataset $X$ via $W$ to obtain a $k$-dimensional feature subspace $Y$.\n"
   ]
  },
  {
   "cell_type": "markdown",
   "metadata": {},
   "source": [
    "### 1. Standardizing The Data\n",
    "\n",
    "Most of the times, our dataset will contain features highly varying in magnitudes, units and range. But since, most of the machine learning algorithms use Eucledian distance between two data points in their computations, this is a problem.\n",
    "\n",
    "If left alone, these algorithms only take in the magnitude of features neglecting the units. The results would vary greatly between different units, 5kg and 5000gms. The features with high magnitudes will weigh in a lot more in the distance calculations than features with low magnitudes.\n",
    "\n",
    "Whether to standardize the data prior to a PCA on the covariance matrix depends on the measurement scales of the original features. Since PCA yields a feature subspace that maximizes the variance along the axes, it makes sense to standardize the data, especially, if it was measured on different scales.\n",
    "\n",
    "<img src = \"https://cdn-images-1.medium.com/max/1600/1*EyPd0sQxEXtTDSJgu72JNQ.jpeg\" title =\"Tiny Features vs Mega Features\"/>"
   ]
  },
  {
   "cell_type": "markdown",
   "metadata": {},
   "source": [
    "### 2. Computing Eigenvectors and Eigenvalues\n",
    "\n",
    "The eigenvectors and eigenvalues of a covariance (or correlation) matrix represent the \"core\" of a PCA: The eigenvectors (principal components) determine the directions of the new feature space, and the eigenvalues determine their magnitude. In other words, the eigenvalues explain the variance of the data along the new feature axes.\n",
    "\n",
    "#### Covariance Matrix\n",
    "\n",
    "The classic approach to PCA is to perform the eigendecomposition on the covariance matrix $Σ$, which is a $n×n$ matrix where each element represents the covariance between two features. The covariance between two features can be calculated like the following:\n",
    "\n",
    "$\\sigma_{jk}=\\frac{1}{n−1}\\sum_{i = 1}^N = (x_{ij}−\\bar{x_{j}})(x_{ik}−\\bar{x_{k}})$.\n",
    "\n",
    "We can summarize the calculation of the covariance matrix via the following matrix equation:\n",
    "$\\sum_=\\frac{1}{n−1}((X−\\bar{x})^T(X−\\bar{x}))$\n",
    "\n",
    "where $\\bar{x}$ is the mean vector $\\bar{x}=\\sum_{i = 1}^n x_{i}.$\n",
    "\n",
    "The mean vector is a d-dimensional vector where each value in this vector represents the sample mean of a feature column in the dataset.\n",
    "\n",
    "\n",
    "#### EigenValues and EigenVectors\n",
    "\n",
    "In essence, an eigenvector v of a linear transformation T is a non-zero vector that, when T is applied to it, does not change direction. Applying T to the eigenvector only scales the eigenvector by the scalar value λ, called an eigenvalue. This condition can be written as the equation ${\\displaystyle T(\\mathbf {v} )=\\lambda \\mathbf {v} ,} $ then the eigenvalue equation above for a linear transformation can be rewritten as the matrix multiplication ${\\displaystyle Av=\\lambda v} $\n",
    "\n",
    "then v is an eigenvector of the linear transformation A and the scale factor λ is the eigenvalue corresponding to that eigenvector. Equation is the eigenvalue equation for the matrix A. Equation  can be stated equivalently as ${\\displaystyle (A-\\lambda I)v=0}$ where I is the n by n identity matrix.\n",
    "\n",
    "Equation has a non-zero solution $v$ if and only if the determinant of the matrix $(A − λI)$ is zero. Therefore, the eigenvalues of $A$ are values of $λ$ that satisfy the equation ${\\displaystyle |A-\\lambda I|=0}$\n"
   ]
  },
  {
   "cell_type": "markdown",
   "metadata": {},
   "source": [
    "### 3. Sort eigenvalues\n",
    "The typical goal of a PCA is to reduce the dimensionality of the original feature space by projecting it onto a smaller subspace, where the eigenvectors will form the axes.\n",
    "\n",
    "In order to decide which eigenvector(s) can dropped without losing too much information for the construction of lower-dimensional subspace, we need to inspect the corresponding eigenvalues: The eigenvectors with the lowest eigenvalues bear the least information about the distribution of the data; those are the ones can be dropped.\n",
    "In order to do so, the common approach is to rank the eigenvalues from highest to lowest in order choose the top $k$ eigenvectors."
   ]
  },
  {
   "cell_type": "markdown",
   "metadata": {},
   "source": [
    "### 4. Construct the projection matrix\n",
    "\n",
    "It's about time to get to the really interesting part: The construction of the projection matrix that will be used to transform the dataset onto the new feature subspace. Although, the name \"projection matrix\" has a nice ring to it, it is basically just a matrix of our concatenated top $k$ eigenvectors."
   ]
  },
  {
   "cell_type": "markdown",
   "metadata": {},
   "source": [
    "### 5.  Transform the original dataset\n",
    "\n",
    "In this last step we will use the $d*k$-dimensional projection matrix $W$ to transform our samples onto the new subspace via the equation\n",
    "$Y=X×W$, where $Y$ is matrix of our transformed samples."
   ]
  },
  {
   "cell_type": "markdown",
   "metadata": {},
   "source": [
    "# PCA Using Numpy"
   ]
  },
  {
   "cell_type": "code",
   "execution_count": 1,
   "metadata": {},
   "outputs": [],
   "source": [
    "# Importing The Libraries\n",
    "import numpy as np\n",
    "import pandas as pd\n",
    "import matplotlib.pyplot as plt"
   ]
  },
  {
   "cell_type": "code",
   "execution_count": 2,
   "metadata": {},
   "outputs": [
    {
     "data": {
      "text/html": [
       "<div>\n",
       "<style scoped>\n",
       "    .dataframe tbody tr th:only-of-type {\n",
       "        vertical-align: middle;\n",
       "    }\n",
       "\n",
       "    .dataframe tbody tr th {\n",
       "        vertical-align: top;\n",
       "    }\n",
       "\n",
       "    .dataframe thead th {\n",
       "        text-align: right;\n",
       "    }\n",
       "</style>\n",
       "<table border=\"1\" class=\"dataframe\">\n",
       "  <thead>\n",
       "    <tr style=\"text-align: right;\">\n",
       "      <th></th>\n",
       "      <th>Alcohol</th>\n",
       "      <th>Malic_Acid</th>\n",
       "      <th>Ash</th>\n",
       "      <th>Ash_Alcanity</th>\n",
       "      <th>Magnesium</th>\n",
       "      <th>Total_Phenols</th>\n",
       "      <th>Flavanoids</th>\n",
       "      <th>Nonflavanoid_Phenols</th>\n",
       "      <th>Proanthocyanins</th>\n",
       "      <th>Color_Intensity</th>\n",
       "      <th>Hue</th>\n",
       "      <th>OD280</th>\n",
       "      <th>Proline</th>\n",
       "      <th>Customer_Segment</th>\n",
       "    </tr>\n",
       "  </thead>\n",
       "  <tbody>\n",
       "    <tr>\n",
       "      <th>0</th>\n",
       "      <td>14.23</td>\n",
       "      <td>1.71</td>\n",
       "      <td>2.43</td>\n",
       "      <td>15.6</td>\n",
       "      <td>127</td>\n",
       "      <td>2.80</td>\n",
       "      <td>3.06</td>\n",
       "      <td>0.28</td>\n",
       "      <td>2.29</td>\n",
       "      <td>5.64</td>\n",
       "      <td>1.04</td>\n",
       "      <td>3.92</td>\n",
       "      <td>1065</td>\n",
       "      <td>1</td>\n",
       "    </tr>\n",
       "    <tr>\n",
       "      <th>1</th>\n",
       "      <td>13.20</td>\n",
       "      <td>1.78</td>\n",
       "      <td>2.14</td>\n",
       "      <td>11.2</td>\n",
       "      <td>100</td>\n",
       "      <td>2.65</td>\n",
       "      <td>2.76</td>\n",
       "      <td>0.26</td>\n",
       "      <td>1.28</td>\n",
       "      <td>4.38</td>\n",
       "      <td>1.05</td>\n",
       "      <td>3.40</td>\n",
       "      <td>1050</td>\n",
       "      <td>1</td>\n",
       "    </tr>\n",
       "    <tr>\n",
       "      <th>2</th>\n",
       "      <td>13.16</td>\n",
       "      <td>2.36</td>\n",
       "      <td>2.67</td>\n",
       "      <td>18.6</td>\n",
       "      <td>101</td>\n",
       "      <td>2.80</td>\n",
       "      <td>3.24</td>\n",
       "      <td>0.30</td>\n",
       "      <td>2.81</td>\n",
       "      <td>5.68</td>\n",
       "      <td>1.03</td>\n",
       "      <td>3.17</td>\n",
       "      <td>1185</td>\n",
       "      <td>1</td>\n",
       "    </tr>\n",
       "    <tr>\n",
       "      <th>3</th>\n",
       "      <td>14.37</td>\n",
       "      <td>1.95</td>\n",
       "      <td>2.50</td>\n",
       "      <td>16.8</td>\n",
       "      <td>113</td>\n",
       "      <td>3.85</td>\n",
       "      <td>3.49</td>\n",
       "      <td>0.24</td>\n",
       "      <td>2.18</td>\n",
       "      <td>7.80</td>\n",
       "      <td>0.86</td>\n",
       "      <td>3.45</td>\n",
       "      <td>1480</td>\n",
       "      <td>1</td>\n",
       "    </tr>\n",
       "    <tr>\n",
       "      <th>4</th>\n",
       "      <td>13.24</td>\n",
       "      <td>2.59</td>\n",
       "      <td>2.87</td>\n",
       "      <td>21.0</td>\n",
       "      <td>118</td>\n",
       "      <td>2.80</td>\n",
       "      <td>2.69</td>\n",
       "      <td>0.39</td>\n",
       "      <td>1.82</td>\n",
       "      <td>4.32</td>\n",
       "      <td>1.04</td>\n",
       "      <td>2.93</td>\n",
       "      <td>735</td>\n",
       "      <td>1</td>\n",
       "    </tr>\n",
       "  </tbody>\n",
       "</table>\n",
       "</div>"
      ],
      "text/plain": [
       "   Alcohol  Malic_Acid   Ash  Ash_Alcanity  Magnesium  Total_Phenols  \\\n",
       "0    14.23        1.71  2.43          15.6        127           2.80   \n",
       "1    13.20        1.78  2.14          11.2        100           2.65   \n",
       "2    13.16        2.36  2.67          18.6        101           2.80   \n",
       "3    14.37        1.95  2.50          16.8        113           3.85   \n",
       "4    13.24        2.59  2.87          21.0        118           2.80   \n",
       "\n",
       "   Flavanoids  Nonflavanoid_Phenols  Proanthocyanins  Color_Intensity   Hue  \\\n",
       "0        3.06                  0.28             2.29             5.64  1.04   \n",
       "1        2.76                  0.26             1.28             4.38  1.05   \n",
       "2        3.24                  0.30             2.81             5.68  1.03   \n",
       "3        3.49                  0.24             2.18             7.80  0.86   \n",
       "4        2.69                  0.39             1.82             4.32  1.04   \n",
       "\n",
       "   OD280  Proline  Customer_Segment  \n",
       "0   3.92     1065                 1  \n",
       "1   3.40     1050                 1  \n",
       "2   3.17     1185                 1  \n",
       "3   3.45     1480                 1  \n",
       "4   2.93      735                 1  "
      ]
     },
     "execution_count": 2,
     "metadata": {},
     "output_type": "execute_result"
    }
   ],
   "source": [
    "# getting the data from csv file\n",
    "data = pd.read_csv('Wine.csv')\n",
    "data.head()"
   ]
  },
  {
   "cell_type": "code",
   "execution_count": 3,
   "metadata": {},
   "outputs": [],
   "source": [
    "# Spliting Them to Features and targets\n",
    "X = data.iloc[:, 0:13].values\n",
    "y = data.iloc[:, 13].values"
   ]
  },
  {
   "cell_type": "code",
   "execution_count": 4,
   "metadata": {},
   "outputs": [],
   "source": [
    "# Feature Scaling\n",
    "from sklearn.preprocessing import StandardScaler\n",
    "sc = StandardScaler()\n",
    "X = sc.fit_transform(X)"
   ]
  },
  {
   "cell_type": "code",
   "execution_count": 5,
   "metadata": {},
   "outputs": [],
   "source": [
    "# Calculating Covariance Matrix\n",
    "cov_matrix = np.cov(X.T)"
   ]
  },
  {
   "cell_type": "code",
   "execution_count": 6,
   "metadata": {
    "scrolled": true
   },
   "outputs": [],
   "source": [
    "# Getting the Eign Values And EigenVecorts\n",
    "eig_vals, eig_vecs = np.linalg.eig(cov_matrix)\n"
   ]
  },
  {
   "cell_type": "code",
   "execution_count": 7,
   "metadata": {},
   "outputs": [],
   "source": [
    "# Forming a pair of Eign Values / Pairs\n",
    "eig_pairs = [(np.abs(eig_vals[i]) , eig_vecs[:,i]) for i in range(len(eig_vals))]\n",
    "\n",
    "# Sorting All of Them\n",
    "eig_pairs.sort(key = lambda x : x[0] , reverse= True)"
   ]
  },
  {
   "cell_type": "code",
   "execution_count": 18,
   "metadata": {},
   "outputs": [],
   "source": [
    "final = []\n",
    "for i in range(2):\n",
    "    final.append(eig_pairs[i][1].reshape(13,1))\n",
    "s = []\n",
    "s.append(eig_pairs[0][1].reshape(13,1))\n",
    "s.append(eig_pairs[1][1].reshape(13,1))\n",
    "# Creating the Projection Matrix\n",
    "matrix_w = np.hstack((s))\n"
   ]
  },
  {
   "cell_type": "code",
   "execution_count": 20,
   "metadata": {},
   "outputs": [],
   "source": [
    "# Transforming The Data\n",
    "Y = X.dot(matrix_w)\n",
    "n =-1 * np.identity(2)\n",
    "Y = Y.dot(n)"
   ]
  },
  {
   "cell_type": "code",
   "execution_count": 21,
   "metadata": {},
   "outputs": [
    {
     "data": {
      "image/png": "[encoded data removed]",
      "text/plain": [
       "<Figure size 432x288 with 1 Axes>"
      ]
     },
     "metadata": {},
     "output_type": "display_data"
    }
   ],
   "source": [
    "# Ploting The Data\n",
    "from matplotlib.colors import ListedColormap\n",
    "\n",
    "for i, j in enumerate(np.unique(y)):\n",
    "    plt.scatter(Y[y == j, 0], Y[y == j, 1],\n",
    "                c = ListedColormap(('red', 'green', 'blue'))(i), label = j)\n",
    "plt.title('Customer_Segment Wine')\n",
    "plt.legend()\n",
    "plt.show()"
   ]
  },
  {
   "cell_type": "markdown",
   "metadata": {},
   "source": [
    "# PCA Using Sklearn"
   ]
  },
  {
   "cell_type": "code",
   "execution_count": 77,
   "metadata": {},
   "outputs": [],
   "source": [
    "# Getting The PCA From sklearn library\n",
    "from sklearn.decomposition import PCA\n",
    "pca = PCA(n_components = 2)\n",
    "New = pca.fit_transform(X)\n",
    "explained_variance = pca.explained_variance_ratio_"
   ]
  },
  {
   "cell_type": "code",
   "execution_count": 78,
   "metadata": {},
   "outputs": [
    {
     "data": {
      "image/png": "[encoded data removed]",
      "text/plain": [
       "<Figure size 432x288 with 1 Axes>"
      ]
     },
     "metadata": {},
     "output_type": "display_data"
    }
   ],
   "source": [
    "# Ploting The Data For Sklearn Result\n",
    "from matplotlib.colors import ListedColormap\n",
    "\n",
    "for i, j in enumerate(np.unique(y)):\n",
    "    plt.scatter(New[y == j, 0], New[y == j, 1],\n",
    "                c = ListedColormap(('red', 'green', 'blue'))(i), label = j)\n",
    "plt.title('Customer_Segment Wine')\n",
    "plt.legend()\n",
    "plt.show()"
   ]
  },
  {
   "cell_type": "markdown",
   "metadata": {},
   "source": [
    "# PCA Purly\n",
    "In This Section We Gonna Implement PCA Using Our Own Algorithm."
   ]
  },
  {
   "cell_type": "code",
   "execution_count": 79,
   "metadata": {},
   "outputs": [],
   "source": [
    "#Matrix multiplication\n",
    "def matmul (A, B):\n",
    "    rows_A = len(A)\n",
    "    cols_A = len(A[0])\n",
    "    rows_B = len(B)\n",
    "    cols_B = len(B[0])\n",
    "\n",
    "    if cols_A != rows_B:\n",
    "        print('Cannot multiply the two matrices. Incorrect dimensions.')\n",
    "        return\n",
    "\n",
    "    C = [[0 for row in range(cols_B)] for col in range(rows_A)]\n",
    "    \n",
    "    for i in range(rows_A):\n",
    "        for j in range(cols_B):\n",
    "            for k in range(cols_A):\n",
    "                C[i][j] += A[i][k] * B[k][j]\n",
    "    return C\n",
    "\n",
    "# simple mean function\n",
    "def mean(a_list):\n",
    "    return sum(a_list)/len(a_list)\n",
    "\n",
    "# calculate the variance of a list\n",
    "def variance(a_list):\n",
    "    mean_value = mean(a_list)\n",
    "    squared = [(x-mean_value)**2 for x in a_list]\n",
    "    return sum(squared) / len(a_list)\n",
    "\n",
    "# calculate standard deviation of a vetor\n",
    "def std(a_list):\n",
    "    return (variance(a_list)**(1/2))\n",
    "\n",
    "# Standardization of a vector x = x - mean(x) / std(x)\n",
    "def stand_vactor(a):\n",
    "    result = []\n",
    "    meanA = mean(a)\n",
    "    stdA = std(a)\n",
    "    for i in a:\n",
    "        result.append((i - meanA)/ stdA)\n",
    "    return result \n",
    "\n",
    "# Standardization of a matrix x = x - mean(x) / std(x)\n",
    "def stand_matrix(a):\n",
    "    zipa= list(zip(*a))\n",
    "    result = []\n",
    "    for i in zipa:\n",
    "        result.append(stand_vactor(i))\n",
    "    return list(map(list,zip(*result)))\n",
    "\n",
    "def determinant(matrix,mul = 1):    \n",
    "    width = len(matrix)\n",
    "    if width == 1:\n",
    "        return mul * matrix[0][0]\n",
    "    else:\n",
    "        sign = -1\n",
    "        sumA = 0\n",
    "        for i in range(width):\n",
    "            m = []\n",
    "            for j in range(1, width):\n",
    "                buff = []\n",
    "                for k in range(width):\n",
    "                    if k != i:\n",
    "                        buff.append(matrix[j][k])\n",
    "                m.append(buff)\n",
    "            sign *= -1\n",
    "            sumA += mul * determinant(m, sign * matrix[0][i])\n",
    "    return sumA\n",
    "\n",
    "# Function to find covariance between two variables. \n",
    "def covariance(arr1, arr2, n): \n",
    "    sum = 0\n",
    "    for i in range(0, n): \n",
    "        sum = (sum + (arr1[i] - mean(arr1, n)) *\n",
    "                      (arr2[i] - mean(arr2, n))) \n",
    "\n",
    "# Calculate the covariance matrix for a dataset\n",
    "def covariance_matrix(matrix):\n",
    "    pass\n",
    "\n",
    "# calculate the eigen value and eigen vetcors of a matrix\n",
    "def eigns_things(matrix):\n",
    "    pass"
   ]
  }
 ],
 "metadata": {
  "kernelspec": {
   "display_name": "Python 3",
   "language": "python",
   "name": "python3"
  },
  "language_info": {
   "codemirror_mode": {
    "name": "ipython",
    "version": 3
   },
   "file_extension": ".py",
   "mimetype": "text/x-python",
   "name": "python",
   "nbconvert_exporter": "python",
   "pygments_lexer": "ipython3",
   "version": "3.6.4"
  }
 },
 "nbformat": 4,
 "nbformat_minor": 2
}
